{
 "cells": [
  {
   "cell_type": "code",
   "execution_count": 1,
   "id": "83906680",
   "metadata": {},
   "outputs": [],
   "source": [
    "import pandas as pd\n",
    "import numpy as np\n",
    "import matplotlib.pyplot as plt"
   ]
  },
  {
   "cell_type": "markdown",
   "id": "ce6b13aa",
   "metadata": {},
   "source": [
    "## Drinks"
   ]
  },
  {
   "cell_type": "code",
   "execution_count": 2,
   "id": "0fc2c885",
   "metadata": {},
   "outputs": [
    {
     "data": {
      "text/html": [
       "<div>\n",
       "<style scoped>\n",
       "    .dataframe tbody tr th:only-of-type {\n",
       "        vertical-align: middle;\n",
       "    }\n",
       "\n",
       "    .dataframe tbody tr th {\n",
       "        vertical-align: top;\n",
       "    }\n",
       "\n",
       "    .dataframe thead th {\n",
       "        text-align: right;\n",
       "    }\n",
       "</style>\n",
       "<table border=\"1\" class=\"dataframe\">\n",
       "  <thead>\n",
       "    <tr style=\"text-align: right;\">\n",
       "      <th></th>\n",
       "      <th>country</th>\n",
       "      <th>beer_servings</th>\n",
       "      <th>spirit_servings</th>\n",
       "      <th>wine_servings</th>\n",
       "      <th>total_litres_of_pure_alcohol</th>\n",
       "    </tr>\n",
       "  </thead>\n",
       "  <tbody>\n",
       "    <tr>\n",
       "      <th>0</th>\n",
       "      <td>Afghanistan</td>\n",
       "      <td>0</td>\n",
       "      <td>0</td>\n",
       "      <td>0</td>\n",
       "      <td>NaN</td>\n",
       "    </tr>\n",
       "    <tr>\n",
       "      <th>1</th>\n",
       "      <td>Albania</td>\n",
       "      <td>89</td>\n",
       "      <td>132</td>\n",
       "      <td>54</td>\n",
       "      <td>NaN</td>\n",
       "    </tr>\n",
       "    <tr>\n",
       "      <th>2</th>\n",
       "      <td>Algeria</td>\n",
       "      <td>25</td>\n",
       "      <td>0</td>\n",
       "      <td>14</td>\n",
       "      <td>NaN</td>\n",
       "    </tr>\n",
       "    <tr>\n",
       "      <th>3</th>\n",
       "      <td>Andorra</td>\n",
       "      <td>245</td>\n",
       "      <td>138</td>\n",
       "      <td>312</td>\n",
       "      <td>NaN</td>\n",
       "    </tr>\n",
       "    <tr>\n",
       "      <th>4</th>\n",
       "      <td>Angola</td>\n",
       "      <td>217</td>\n",
       "      <td>57</td>\n",
       "      <td>45</td>\n",
       "      <td>NaN</td>\n",
       "    </tr>\n",
       "  </tbody>\n",
       "</table>\n",
       "</div>"
      ],
      "text/plain": [
       "       country beer_servings spirit_servings wine_servings  \\\n",
       "0  Afghanistan             0               0             0   \n",
       "1      Albania            89             132            54   \n",
       "2      Algeria            25               0            14   \n",
       "3      Andorra           245             138           312   \n",
       "4       Angola           217              57            45   \n",
       "\n",
       "   total_litres_of_pure_alcohol  \n",
       "0                           NaN  \n",
       "1                           NaN  \n",
       "2                           NaN  \n",
       "3                           NaN  \n",
       "4                           NaN  "
      ]
     },
     "execution_count": 2,
     "metadata": {},
     "output_type": "execute_result"
    }
   ],
   "source": [
    "drinks = pd.read_csv(\"Drinks.csv\")\n",
    "drinks.head()"
   ]
  },
  {
   "cell_type": "code",
   "execution_count": 3,
   "id": "6aa67377",
   "metadata": {},
   "outputs": [
    {
     "data": {
      "text/plain": [
       "country                          object\n",
       "beer_servings                    object\n",
       "spirit_servings                  object\n",
       "wine_servings                    object\n",
       "total_litres_of_pure_alcohol    float64\n",
       "dtype: object"
      ]
     },
     "execution_count": 3,
     "metadata": {},
     "output_type": "execute_result"
    }
   ],
   "source": [
    "drinks.dtypes"
   ]
  },
  {
   "cell_type": "code",
   "execution_count": 4,
   "id": "609d9917",
   "metadata": {},
   "outputs": [
    {
     "data": {
      "text/plain": [
       "array(['0', '89', '25', '245', '217', '102', '193', '21', '261', '279',\n",
       "       '122', '42', '143', '142', '295', '263', '34', '23', '167', '76',\n",
       "       '173', '31', '231', '88', '144', '57', '147', '240', '17', '15',\n",
       "       '130', '79', '159', '1', '149', '37', '230', '93', '192', '361',\n",
       "       '224', '52', '32', '162', '6', '92', '18', '20', '77', '127',\n",
       "       '347', '8', '346', '133', '199', '53', '9', '28', '69', '234',\n",
       "       '233', '5', '313', '63', '85', '82', '124', '58', '62', '281',\n",
       "       '19', '343', '236', '?', '26', '13', '98', '238', '109', '12',\n",
       "       '47', '376', '49', '251', '203', '78', '3', '188', '169', '22',\n",
       "       '306', '285', '44', '213', '163', '71', '194', '297', '247', '43',\n",
       "       '105', '56', '283', '157', '60', '196', '270', '225', '140', '284',\n",
       "       '16', '171', '120', '128', '90', '152', '185', '2', '36', '99',\n",
       "       '197', '51', '45', '206', '219', '115', '249', '333', '111', '64'],\n",
       "      dtype=object)"
      ]
     },
     "execution_count": 4,
     "metadata": {},
     "output_type": "execute_result"
    }
   ],
   "source": [
    "drinks['beer_servings'].unique()"
   ]
  },
  {
   "cell_type": "code",
   "execution_count": 5,
   "id": "dd3f0cc2",
   "metadata": {},
   "outputs": [],
   "source": [
    "#'?' to NA\n",
    "drinks.replace('?',np.nan, inplace=True)"
   ]
  },
  {
   "cell_type": "code",
   "execution_count": 6,
   "id": "418c79d3",
   "metadata": {},
   "outputs": [],
   "source": [
    "drinks=drinks.astype({'beer_servings':'float', 'spirit_servings': 'float', 'wine_servings':'float'})"
   ]
  },
  {
   "cell_type": "code",
   "execution_count": 7,
   "id": "7ca9f91c",
   "metadata": {},
   "outputs": [],
   "source": [
    "# calculating 'total_litres_of_pure_alcohol'\n",
    "\n",
    "drinks['total_litres_of_pure_alcohol'] = drinks['beer_servings']*0.0295*12*0.05 + drinks['spirit_servings']*0.0295*1.5*0.4 + drinks['wine_servings']*0.0295*5*0.12"
   ]
  },
  {
   "cell_type": "code",
   "execution_count": 8,
   "id": "48711a97",
   "metadata": {},
   "outputs": [
    {
     "data": {
      "text/html": [
       "<div>\n",
       "<style scoped>\n",
       "    .dataframe tbody tr th:only-of-type {\n",
       "        vertical-align: middle;\n",
       "    }\n",
       "\n",
       "    .dataframe tbody tr th {\n",
       "        vertical-align: top;\n",
       "    }\n",
       "\n",
       "    .dataframe thead th {\n",
       "        text-align: right;\n",
       "    }\n",
       "</style>\n",
       "<table border=\"1\" class=\"dataframe\">\n",
       "  <thead>\n",
       "    <tr style=\"text-align: right;\">\n",
       "      <th></th>\n",
       "      <th>country</th>\n",
       "      <th>beer_servings</th>\n",
       "      <th>spirit_servings</th>\n",
       "      <th>wine_servings</th>\n",
       "      <th>total_litres_of_pure_alcohol</th>\n",
       "    </tr>\n",
       "  </thead>\n",
       "  <tbody>\n",
       "    <tr>\n",
       "      <th>11</th>\n",
       "      <td>Bahamas</td>\n",
       "      <td>122.0</td>\n",
       "      <td>176.0</td>\n",
       "      <td>NaN</td>\n",
       "      <td>NaN</td>\n",
       "    </tr>\n",
       "    <tr>\n",
       "      <th>46</th>\n",
       "      <td>Denmark</td>\n",
       "      <td>224.0</td>\n",
       "      <td>NaN</td>\n",
       "      <td>278.0</td>\n",
       "      <td>NaN</td>\n",
       "    </tr>\n",
       "    <tr>\n",
       "      <th>99</th>\n",
       "      <td>Macedonia</td>\n",
       "      <td>NaN</td>\n",
       "      <td>27.0</td>\n",
       "      <td>86.0</td>\n",
       "      <td>NaN</td>\n",
       "    </tr>\n",
       "  </tbody>\n",
       "</table>\n",
       "</div>"
      ],
      "text/plain": [
       "      country  beer_servings  spirit_servings  wine_servings  \\\n",
       "11    Bahamas          122.0            176.0            NaN   \n",
       "46    Denmark          224.0              NaN          278.0   \n",
       "99  Macedonia            NaN             27.0           86.0   \n",
       "\n",
       "    total_litres_of_pure_alcohol  \n",
       "11                           NaN  \n",
       "46                           NaN  \n",
       "99                           NaN  "
      ]
     },
     "execution_count": 8,
     "metadata": {},
     "output_type": "execute_result"
    }
   ],
   "source": [
    "# check for missing values\n",
    "drinks[drinks.isna().any(axis=1)]"
   ]
  },
  {
   "cell_type": "markdown",
   "id": "40e29aa1",
   "metadata": {},
   "source": [
    "I decided to drop the missing values, because they are definitely not 0. I could interpolate them, but the result might be misleading, because it's possible, that they have a disproportionate consumption in the missing category. Also, we only lose 3 observations, so it's not a big deal."
   ]
  },
  {
   "cell_type": "code",
   "execution_count": 9,
   "id": "998e8fe9",
   "metadata": {},
   "outputs": [],
   "source": [
    "drinks.dropna(inplace=True)"
   ]
  },
  {
   "cell_type": "code",
   "execution_count": 10,
   "id": "ca5d5141",
   "metadata": {},
   "outputs": [
    {
     "data": {
      "text/html": [
       "<div>\n",
       "<style scoped>\n",
       "    .dataframe tbody tr th:only-of-type {\n",
       "        vertical-align: middle;\n",
       "    }\n",
       "\n",
       "    .dataframe tbody tr th {\n",
       "        vertical-align: top;\n",
       "    }\n",
       "\n",
       "    .dataframe thead th {\n",
       "        text-align: right;\n",
       "    }\n",
       "</style>\n",
       "<table border=\"1\" class=\"dataframe\">\n",
       "  <thead>\n",
       "    <tr style=\"text-align: right;\">\n",
       "      <th></th>\n",
       "      <th>beer_servings</th>\n",
       "      <th>spirit_servings</th>\n",
       "      <th>wine_servings</th>\n",
       "      <th>total_litres_of_pure_alcohol</th>\n",
       "    </tr>\n",
       "  </thead>\n",
       "  <tbody>\n",
       "    <tr>\n",
       "      <th>count</th>\n",
       "      <td>190.000000</td>\n",
       "      <td>190.000000</td>\n",
       "      <td>190.000000</td>\n",
       "      <td>190.000000</td>\n",
       "    </tr>\n",
       "    <tr>\n",
       "      <th>mean</th>\n",
       "      <td>105.457895</td>\n",
       "      <td>80.778947</td>\n",
       "      <td>48.047368</td>\n",
       "      <td>4.146831</td>\n",
       "    </tr>\n",
       "    <tr>\n",
       "      <th>std</th>\n",
       "      <td>101.572690</td>\n",
       "      <td>88.626221</td>\n",
       "      <td>78.530841</td>\n",
       "      <td>3.704184</td>\n",
       "    </tr>\n",
       "    <tr>\n",
       "      <th>min</th>\n",
       "      <td>0.000000</td>\n",
       "      <td>0.000000</td>\n",
       "      <td>0.000000</td>\n",
       "      <td>0.000000</td>\n",
       "    </tr>\n",
       "    <tr>\n",
       "      <th>25%</th>\n",
       "      <td>20.000000</td>\n",
       "      <td>4.000000</td>\n",
       "      <td>1.000000</td>\n",
       "      <td>0.796500</td>\n",
       "    </tr>\n",
       "    <tr>\n",
       "      <th>50%</th>\n",
       "      <td>70.000000</td>\n",
       "      <td>55.500000</td>\n",
       "      <td>8.000000</td>\n",
       "      <td>2.955900</td>\n",
       "    </tr>\n",
       "    <tr>\n",
       "      <th>75%</th>\n",
       "      <td>187.250000</td>\n",
       "      <td>127.500000</td>\n",
       "      <td>58.250000</td>\n",
       "      <td>6.907425</td>\n",
       "    </tr>\n",
       "    <tr>\n",
       "      <th>max</th>\n",
       "      <td>376.000000</td>\n",
       "      <td>438.000000</td>\n",
       "      <td>370.000000</td>\n",
       "      <td>12.301500</td>\n",
       "    </tr>\n",
       "  </tbody>\n",
       "</table>\n",
       "</div>"
      ],
      "text/plain": [
       "       beer_servings  spirit_servings  wine_servings  \\\n",
       "count     190.000000       190.000000     190.000000   \n",
       "mean      105.457895        80.778947      48.047368   \n",
       "std       101.572690        88.626221      78.530841   \n",
       "min         0.000000         0.000000       0.000000   \n",
       "25%        20.000000         4.000000       1.000000   \n",
       "50%        70.000000        55.500000       8.000000   \n",
       "75%       187.250000       127.500000      58.250000   \n",
       "max       376.000000       438.000000     370.000000   \n",
       "\n",
       "       total_litres_of_pure_alcohol  \n",
       "count                    190.000000  \n",
       "mean                       4.146831  \n",
       "std                        3.704184  \n",
       "min                        0.000000  \n",
       "25%                        0.796500  \n",
       "50%                        2.955900  \n",
       "75%                        6.907425  \n",
       "max                       12.301500  "
      ]
     },
     "execution_count": 10,
     "metadata": {},
     "output_type": "execute_result"
    }
   ],
   "source": [
    "drinks.describe()"
   ]
  },
  {
   "cell_type": "markdown",
   "id": "85de6018",
   "metadata": {},
   "source": [
    "Looks like there are zero values. Let's take a look at them:"
   ]
  },
  {
   "cell_type": "code",
   "execution_count": 11,
   "id": "8d1832fb",
   "metadata": {},
   "outputs": [
    {
     "data": {
      "text/html": [
       "<div>\n",
       "<style scoped>\n",
       "    .dataframe tbody tr th:only-of-type {\n",
       "        vertical-align: middle;\n",
       "    }\n",
       "\n",
       "    .dataframe tbody tr th {\n",
       "        vertical-align: top;\n",
       "    }\n",
       "\n",
       "    .dataframe thead th {\n",
       "        text-align: right;\n",
       "    }\n",
       "</style>\n",
       "<table border=\"1\" class=\"dataframe\">\n",
       "  <thead>\n",
       "    <tr style=\"text-align: right;\">\n",
       "      <th></th>\n",
       "      <th>country</th>\n",
       "      <th>beer_servings</th>\n",
       "      <th>spirit_servings</th>\n",
       "      <th>wine_servings</th>\n",
       "      <th>total_litres_of_pure_alcohol</th>\n",
       "    </tr>\n",
       "  </thead>\n",
       "  <tbody>\n",
       "    <tr>\n",
       "      <th>0</th>\n",
       "      <td>Afghanistan</td>\n",
       "      <td>0.0</td>\n",
       "      <td>0.0</td>\n",
       "      <td>0.0</td>\n",
       "      <td>0.0</td>\n",
       "    </tr>\n",
       "    <tr>\n",
       "      <th>13</th>\n",
       "      <td>Bangladesh</td>\n",
       "      <td>0.0</td>\n",
       "      <td>0.0</td>\n",
       "      <td>0.0</td>\n",
       "      <td>0.0</td>\n",
       "    </tr>\n",
       "    <tr>\n",
       "      <th>78</th>\n",
       "      <td>Iran</td>\n",
       "      <td>0.0</td>\n",
       "      <td>0.0</td>\n",
       "      <td>0.0</td>\n",
       "      <td>0.0</td>\n",
       "    </tr>\n",
       "    <tr>\n",
       "      <th>89</th>\n",
       "      <td>Kuwait</td>\n",
       "      <td>0.0</td>\n",
       "      <td>0.0</td>\n",
       "      <td>0.0</td>\n",
       "      <td>0.0</td>\n",
       "    </tr>\n",
       "    <tr>\n",
       "      <th>96</th>\n",
       "      <td>Libya</td>\n",
       "      <td>0.0</td>\n",
       "      <td>0.0</td>\n",
       "      <td>0.0</td>\n",
       "      <td>0.0</td>\n",
       "    </tr>\n",
       "    <tr>\n",
       "      <th>103</th>\n",
       "      <td>Maldives</td>\n",
       "      <td>0.0</td>\n",
       "      <td>0.0</td>\n",
       "      <td>0.0</td>\n",
       "      <td>0.0</td>\n",
       "    </tr>\n",
       "    <tr>\n",
       "      <th>106</th>\n",
       "      <td>Marshall Islands</td>\n",
       "      <td>0.0</td>\n",
       "      <td>0.0</td>\n",
       "      <td>0.0</td>\n",
       "      <td>0.0</td>\n",
       "    </tr>\n",
       "    <tr>\n",
       "      <th>107</th>\n",
       "      <td>Mauritania</td>\n",
       "      <td>0.0</td>\n",
       "      <td>0.0</td>\n",
       "      <td>0.0</td>\n",
       "      <td>0.0</td>\n",
       "    </tr>\n",
       "    <tr>\n",
       "      <th>112</th>\n",
       "      <td>Monaco</td>\n",
       "      <td>0.0</td>\n",
       "      <td>0.0</td>\n",
       "      <td>0.0</td>\n",
       "      <td>0.0</td>\n",
       "    </tr>\n",
       "    <tr>\n",
       "      <th>127</th>\n",
       "      <td>North Korea</td>\n",
       "      <td>0.0</td>\n",
       "      <td>0.0</td>\n",
       "      <td>0.0</td>\n",
       "      <td>0.0</td>\n",
       "    </tr>\n",
       "    <tr>\n",
       "      <th>130</th>\n",
       "      <td>Pakistan</td>\n",
       "      <td>0.0</td>\n",
       "      <td>0.0</td>\n",
       "      <td>0.0</td>\n",
       "      <td>0.0</td>\n",
       "    </tr>\n",
       "    <tr>\n",
       "      <th>144</th>\n",
       "      <td>San Marino</td>\n",
       "      <td>0.0</td>\n",
       "      <td>0.0</td>\n",
       "      <td>0.0</td>\n",
       "      <td>0.0</td>\n",
       "    </tr>\n",
       "    <tr>\n",
       "      <th>155</th>\n",
       "      <td>Somalia</td>\n",
       "      <td>0.0</td>\n",
       "      <td>0.0</td>\n",
       "      <td>0.0</td>\n",
       "      <td>0.0</td>\n",
       "    </tr>\n",
       "  </tbody>\n",
       "</table>\n",
       "</div>"
      ],
      "text/plain": [
       "              country  beer_servings  spirit_servings  wine_servings  \\\n",
       "0         Afghanistan            0.0              0.0            0.0   \n",
       "13         Bangladesh            0.0              0.0            0.0   \n",
       "78               Iran            0.0              0.0            0.0   \n",
       "89             Kuwait            0.0              0.0            0.0   \n",
       "96              Libya            0.0              0.0            0.0   \n",
       "103          Maldives            0.0              0.0            0.0   \n",
       "106  Marshall Islands            0.0              0.0            0.0   \n",
       "107        Mauritania            0.0              0.0            0.0   \n",
       "112            Monaco            0.0              0.0            0.0   \n",
       "127       North Korea            0.0              0.0            0.0   \n",
       "130          Pakistan            0.0              0.0            0.0   \n",
       "144        San Marino            0.0              0.0            0.0   \n",
       "155           Somalia            0.0              0.0            0.0   \n",
       "\n",
       "     total_litres_of_pure_alcohol  \n",
       "0                             0.0  \n",
       "13                            0.0  \n",
       "78                            0.0  \n",
       "89                            0.0  \n",
       "96                            0.0  \n",
       "103                           0.0  \n",
       "106                           0.0  \n",
       "107                           0.0  \n",
       "112                           0.0  \n",
       "127                           0.0  \n",
       "130                           0.0  \n",
       "144                           0.0  \n",
       "155                           0.0  "
      ]
     },
     "execution_count": 11,
     "metadata": {},
     "output_type": "execute_result"
    }
   ],
   "source": [
    "drinks[drinks.total_litres_of_pure_alcohol == 0]"
   ]
  },
  {
   "cell_type": "markdown",
   "id": "1f942014",
   "metadata": {},
   "source": [
    "I think it's very safe to assume, that these values aren't true, meaning either the data is incorrect, or the reported numbers are false. There is an argument for keeping them, as these numbers maybe close to 0, but I'm choosing to drop them as well."
   ]
  },
  {
   "cell_type": "code",
   "execution_count": 12,
   "id": "c7efccf6",
   "metadata": {},
   "outputs": [],
   "source": [
    "drinks=drinks[drinks.total_litres_of_pure_alcohol != 0]"
   ]
  },
  {
   "cell_type": "code",
   "execution_count": 13,
   "id": "5a3f976f",
   "metadata": {},
   "outputs": [
    {
     "data": {
      "text/html": [
       "<div>\n",
       "<style scoped>\n",
       "    .dataframe tbody tr th:only-of-type {\n",
       "        vertical-align: middle;\n",
       "    }\n",
       "\n",
       "    .dataframe tbody tr th {\n",
       "        vertical-align: top;\n",
       "    }\n",
       "\n",
       "    .dataframe thead th {\n",
       "        text-align: right;\n",
       "    }\n",
       "</style>\n",
       "<table border=\"1\" class=\"dataframe\">\n",
       "  <thead>\n",
       "    <tr style=\"text-align: right;\">\n",
       "      <th></th>\n",
       "      <th>beer_servings</th>\n",
       "      <th>spirit_servings</th>\n",
       "      <th>wine_servings</th>\n",
       "      <th>total_litres_of_pure_alcohol</th>\n",
       "    </tr>\n",
       "  </thead>\n",
       "  <tbody>\n",
       "    <tr>\n",
       "      <th>count</th>\n",
       "      <td>177.000000</td>\n",
       "      <td>177.000000</td>\n",
       "      <td>177.000000</td>\n",
       "      <td>177.000000</td>\n",
       "    </tr>\n",
       "    <tr>\n",
       "      <th>mean</th>\n",
       "      <td>113.203390</td>\n",
       "      <td>86.711864</td>\n",
       "      <td>51.576271</td>\n",
       "      <td>4.451400</td>\n",
       "    </tr>\n",
       "    <tr>\n",
       "      <th>std</th>\n",
       "      <td>100.981509</td>\n",
       "      <td>88.979770</td>\n",
       "      <td>80.246963</td>\n",
       "      <td>3.656637</td>\n",
       "    </tr>\n",
       "    <tr>\n",
       "      <th>min</th>\n",
       "      <td>0.000000</td>\n",
       "      <td>0.000000</td>\n",
       "      <td>0.000000</td>\n",
       "      <td>0.088500</td>\n",
       "    </tr>\n",
       "    <tr>\n",
       "      <th>25%</th>\n",
       "      <td>25.000000</td>\n",
       "      <td>11.000000</td>\n",
       "      <td>2.000000</td>\n",
       "      <td>0.991200</td>\n",
       "    </tr>\n",
       "    <tr>\n",
       "      <th>50%</th>\n",
       "      <td>78.000000</td>\n",
       "      <td>65.000000</td>\n",
       "      <td>9.000000</td>\n",
       "      <td>3.823200</td>\n",
       "    </tr>\n",
       "    <tr>\n",
       "      <th>75%</th>\n",
       "      <td>193.000000</td>\n",
       "      <td>133.000000</td>\n",
       "      <td>71.000000</td>\n",
       "      <td>7.044600</td>\n",
       "    </tr>\n",
       "    <tr>\n",
       "      <th>max</th>\n",
       "      <td>376.000000</td>\n",
       "      <td>438.000000</td>\n",
       "      <td>370.000000</td>\n",
       "      <td>12.301500</td>\n",
       "    </tr>\n",
       "  </tbody>\n",
       "</table>\n",
       "</div>"
      ],
      "text/plain": [
       "       beer_servings  spirit_servings  wine_servings  \\\n",
       "count     177.000000       177.000000     177.000000   \n",
       "mean      113.203390        86.711864      51.576271   \n",
       "std       100.981509        88.979770      80.246963   \n",
       "min         0.000000         0.000000       0.000000   \n",
       "25%        25.000000        11.000000       2.000000   \n",
       "50%        78.000000        65.000000       9.000000   \n",
       "75%       193.000000       133.000000      71.000000   \n",
       "max       376.000000       438.000000     370.000000   \n",
       "\n",
       "       total_litres_of_pure_alcohol  \n",
       "count                    177.000000  \n",
       "mean                       4.451400  \n",
       "std                        3.656637  \n",
       "min                        0.088500  \n",
       "25%                        0.991200  \n",
       "50%                        3.823200  \n",
       "75%                        7.044600  \n",
       "max                       12.301500  "
      ]
     },
     "execution_count": 13,
     "metadata": {},
     "output_type": "execute_result"
    }
   ],
   "source": [
    "drinks.describe()"
   ]
  },
  {
   "cell_type": "markdown",
   "id": "18f03c5b",
   "metadata": {},
   "source": [
    "The next plot displays the pure alcohol consumption of each country from the drinks table (for better visibility, only every fifth country's name is displayed on the Y-axis)."
   ]
  },
  {
   "cell_type": "code",
   "execution_count": 14,
   "id": "d35c2ab9",
   "metadata": {},
   "outputs": [
    {
     "data": {
      "image/png": "[encoded data removed]",
      "text/plain": [
       "<Figure size 432x288 with 1 Axes>"
      ]
     },
     "metadata": {
      "needs_background": "light"
     },
     "output_type": "display_data"
    }
   ],
   "source": [
    "import matplotlib.ticker as plticker\n",
    "\n",
    "drinks_sorted = drinks.sort_values('total_litres_of_pure_alcohol', ascending=True)\n",
    "\n",
    "plt.rcParams[\"figure.figsize\"] = (15,10)\n",
    "fig, ax = plt.subplots(1,1)\n",
    "ax.barh(drinks_sorted['country'], drinks_sorted['total_litres_of_pure_alcohol'])\n",
    "loc = plticker.MultipleLocator(base=5.0) # this locator puts ticks at regular intervals\n",
    "ax.yaxis.set_major_locator(loc)\n",
    "\n",
    "plt.suptitle('Total liters of pure alcohol')\n",
    "\n",
    "plt.margins(0.005)\n",
    "plt.show()"
   ]
  },
  {
   "cell_type": "markdown",
   "id": "548d1a2c",
   "metadata": {},
   "source": [
    "For the next plot I created 5 equal sized bins. Each bin has a range of 2.5l and contains all the countries falling in that range:"
   ]
  },
  {
   "cell_type": "code",
   "execution_count": 15,
   "id": "17d38c05",
   "metadata": {},
   "outputs": [],
   "source": [
    "drinks_bin = pd.DataFrame(pd.cut(drinks_sorted.total_litres_of_pure_alcohol, bins=[0, 2.5, 5, 7.5, 10, 12.5],\n",
    "                                labels=['0 - 2.5','2.5 - 5', '5 - 7.5', '7.5 - 10', '10+']))"
   ]
  },
  {
   "cell_type": "code",
   "execution_count": 16,
   "id": "c209c6a9",
   "metadata": {},
   "outputs": [],
   "source": [
    "drinks_bin2 = drinks_bin.merge(drinks, left_on=drinks_bin.index, \n",
    "                 right_on=drinks.index).groupby('total_litres_of_pure_alcohol_x').agg({'country':'count', \n",
    "                                 'total_litres_of_pure_alcohol_y': 'sum'}).reset_index().rename(\n",
    "    columns={'total_litres_of_pure_alcohol_x': 'bins', 'country':'count'})"
   ]
  },
  {
   "cell_type": "code",
   "execution_count": 17,
   "id": "d677b858",
   "metadata": {},
   "outputs": [
    {
     "data": {
      "image/png": "[encoded data removed]",
      "text/plain": [
       "<Figure size 720x432 with 2 Axes>"
      ]
     },
     "metadata": {
      "needs_background": "light"
     },
     "output_type": "display_data"
    }
   ],
   "source": [
    "plt.rcParams[\"figure.figsize\"] = (10,6)\n",
    "fig, ax1 = plt.subplots()\n",
    "\n",
    "ax1.set_xlabel('Bins')\n",
    "ax1.bar(drinks_bin2.bins, drinks_bin2['count'], align='edge',  width=-0.1, label='Number of countries in a bin')\n",
    "\n",
    "ax1.set_ylabel('Countries per bin')\n",
    "ax1.legend(loc=(1.05,0.93))\n",
    "\n",
    "ax2 = ax1.twinx()\n",
    "\n",
    "ax2.bar(drinks_bin2.bins, drinks_bin2['total_litres_of_pure_alcohol_y'], align='edge', color='red', width=0.1, \n",
    "        label='Total alcohol consumption')\n",
    "ax2.set_ylabel('Liter')\n",
    "ax2.legend(loc=(1.05,0.88))\n",
    "\n",
    "#handles, labels = ax.get_legend_handles_labels()\n",
    "#fig.legend(handles, labels, loc = (0.5, 0.5), ncol=2)\n",
    "plt.show()"
   ]
  },
  {
   "cell_type": "markdown",
   "id": "08e54125",
   "metadata": {},
   "source": [
    "Most of the alcohol consumption comes from the 10+ bin, even though it contains the fewest of countries."
   ]
  },
  {
   "cell_type": "markdown",
   "id": "266ad20a",
   "metadata": {},
   "source": [
    "## Read, understand and prepare LifeExpectancy.csv (use only last available life expectancy information)\n"
   ]
  },
  {
   "cell_type": "code",
   "execution_count": 18,
   "id": "1853437c",
   "metadata": {},
   "outputs": [
    {
     "data": {
      "text/html": [
       "<div>\n",
       "<style scoped>\n",
       "    .dataframe tbody tr th:only-of-type {\n",
       "        vertical-align: middle;\n",
       "    }\n",
       "\n",
       "    .dataframe tbody tr th {\n",
       "        vertical-align: top;\n",
       "    }\n",
       "\n",
       "    .dataframe thead th {\n",
       "        text-align: right;\n",
       "    }\n",
       "</style>\n",
       "<table border=\"1\" class=\"dataframe\">\n",
       "  <thead>\n",
       "    <tr style=\"text-align: right;\">\n",
       "      <th></th>\n",
       "      <th>GhoCode</th>\n",
       "      <th>GhoDisplay</th>\n",
       "      <th>PublishStateCode</th>\n",
       "      <th>PublishStateDisplay</th>\n",
       "      <th>YearCode</th>\n",
       "      <th>YearDisplay</th>\n",
       "      <th>RegionCode</th>\n",
       "      <th>RegionDisplay</th>\n",
       "      <th>WorldBankIncomeGroupGroupCode</th>\n",
       "      <th>WorldBankIncomeGroupDisplay</th>\n",
       "      <th>CountryCode</th>\n",
       "      <th>CountryDisplay</th>\n",
       "      <th>SexCode</th>\n",
       "      <th>SexDisplay</th>\n",
       "      <th>DisplayValue</th>\n",
       "      <th>Numeric</th>\n",
       "    </tr>\n",
       "  </thead>\n",
       "  <tbody>\n",
       "    <tr>\n",
       "      <th>0</th>\n",
       "      <td>WHOSIS_000001</td>\n",
       "      <td>Life expectancy at birth (years)</td>\n",
       "      <td>PUBLISHED</td>\n",
       "      <td>Published</td>\n",
       "      <td>2013</td>\n",
       "      <td>2013</td>\n",
       "      <td>EMR</td>\n",
       "      <td>Eastern Mediterranean</td>\n",
       "      <td>NaN</td>\n",
       "      <td>NaN</td>\n",
       "      <td>AFG</td>\n",
       "      <td>Afghanistan</td>\n",
       "      <td>BTSX</td>\n",
       "      <td>Both sexes</td>\n",
       "      <td>61</td>\n",
       "      <td>61.25205</td>\n",
       "    </tr>\n",
       "    <tr>\n",
       "      <th>1</th>\n",
       "      <td>WHOSIS_000001</td>\n",
       "      <td>Life expectancy at birth (years)</td>\n",
       "      <td>PUBLISHED</td>\n",
       "      <td>Published</td>\n",
       "      <td>2013</td>\n",
       "      <td>2013</td>\n",
       "      <td>EMR</td>\n",
       "      <td>Eastern Mediterranean</td>\n",
       "      <td>NaN</td>\n",
       "      <td>NaN</td>\n",
       "      <td>AFG</td>\n",
       "      <td>Afghanistan</td>\n",
       "      <td>FMLE</td>\n",
       "      <td>Female</td>\n",
       "      <td>62</td>\n",
       "      <td>61.97733</td>\n",
       "    </tr>\n",
       "    <tr>\n",
       "      <th>2</th>\n",
       "      <td>WHOSIS_000001</td>\n",
       "      <td>Life expectancy at birth (years)</td>\n",
       "      <td>PUBLISHED</td>\n",
       "      <td>Published</td>\n",
       "      <td>2013</td>\n",
       "      <td>2013</td>\n",
       "      <td>EMR</td>\n",
       "      <td>Eastern Mediterranean</td>\n",
       "      <td>NaN</td>\n",
       "      <td>NaN</td>\n",
       "      <td>AFG</td>\n",
       "      <td>Afghanistan</td>\n",
       "      <td>MLE</td>\n",
       "      <td>Male</td>\n",
       "      <td>61</td>\n",
       "      <td>60.51228</td>\n",
       "    </tr>\n",
       "    <tr>\n",
       "      <th>3</th>\n",
       "      <td>WHOSIS_000001</td>\n",
       "      <td>Life expectancy at birth (years)</td>\n",
       "      <td>PUBLISHED</td>\n",
       "      <td>Published</td>\n",
       "      <td>2012</td>\n",
       "      <td>2012</td>\n",
       "      <td>EMR</td>\n",
       "      <td>Eastern Mediterranean</td>\n",
       "      <td>WB_LI</td>\n",
       "      <td>Low_income</td>\n",
       "      <td>AFG</td>\n",
       "      <td>Afghanistan</td>\n",
       "      <td>BTSX</td>\n",
       "      <td>Both sexes</td>\n",
       "      <td>60</td>\n",
       "      <td>60.00000</td>\n",
       "    </tr>\n",
       "    <tr>\n",
       "      <th>4</th>\n",
       "      <td>WHOSIS_000001</td>\n",
       "      <td>Life expectancy at birth (years)</td>\n",
       "      <td>PUBLISHED</td>\n",
       "      <td>Published</td>\n",
       "      <td>2012</td>\n",
       "      <td>2012</td>\n",
       "      <td>EMR</td>\n",
       "      <td>Eastern Mediterranean</td>\n",
       "      <td>WB_LI</td>\n",
       "      <td>Low_income</td>\n",
       "      <td>AFG</td>\n",
       "      <td>Afghanistan</td>\n",
       "      <td>FMLE</td>\n",
       "      <td>Female</td>\n",
       "      <td>61</td>\n",
       "      <td>61.00000</td>\n",
       "    </tr>\n",
       "    <tr>\n",
       "      <th>5</th>\n",
       "      <td>WHOSIS_000001</td>\n",
       "      <td>Life expectancy at birth (years)</td>\n",
       "      <td>PUBLISHED</td>\n",
       "      <td>Published</td>\n",
       "      <td>2012</td>\n",
       "      <td>2012</td>\n",
       "      <td>EMR</td>\n",
       "      <td>Eastern Mediterranean</td>\n",
       "      <td>WB_LI</td>\n",
       "      <td>Low_income</td>\n",
       "      <td>AFG</td>\n",
       "      <td>Afghanistan</td>\n",
       "      <td>MLE</td>\n",
       "      <td>Male</td>\n",
       "      <td>58</td>\n",
       "      <td>58.00000</td>\n",
       "    </tr>\n",
       "    <tr>\n",
       "      <th>6</th>\n",
       "      <td>WHOSIS_000001</td>\n",
       "      <td>Life expectancy at birth (years)</td>\n",
       "      <td>PUBLISHED</td>\n",
       "      <td>Published</td>\n",
       "      <td>2000</td>\n",
       "      <td>2000</td>\n",
       "      <td>EMR</td>\n",
       "      <td>Eastern Mediterranean</td>\n",
       "      <td>WB_LI</td>\n",
       "      <td>Low_income</td>\n",
       "      <td>AFG</td>\n",
       "      <td>Afghanistan</td>\n",
       "      <td>BTSX</td>\n",
       "      <td>Both sexes</td>\n",
       "      <td>55</td>\n",
       "      <td>55.00000</td>\n",
       "    </tr>\n",
       "    <tr>\n",
       "      <th>7</th>\n",
       "      <td>WHOSIS_000001</td>\n",
       "      <td>Life expectancy at birth (years)</td>\n",
       "      <td>PUBLISHED</td>\n",
       "      <td>Published</td>\n",
       "      <td>2000</td>\n",
       "      <td>2000</td>\n",
       "      <td>EMR</td>\n",
       "      <td>Eastern Mediterranean</td>\n",
       "      <td>WB_LI</td>\n",
       "      <td>Low_income</td>\n",
       "      <td>AFG</td>\n",
       "      <td>Afghanistan</td>\n",
       "      <td>FMLE</td>\n",
       "      <td>Female</td>\n",
       "      <td>56</td>\n",
       "      <td>56.00000</td>\n",
       "    </tr>\n",
       "    <tr>\n",
       "      <th>8</th>\n",
       "      <td>WHOSIS_000001</td>\n",
       "      <td>Life expectancy at birth (years)</td>\n",
       "      <td>PUBLISHED</td>\n",
       "      <td>Published</td>\n",
       "      <td>2000</td>\n",
       "      <td>2000</td>\n",
       "      <td>EMR</td>\n",
       "      <td>Eastern Mediterranean</td>\n",
       "      <td>WB_LI</td>\n",
       "      <td>Low_income</td>\n",
       "      <td>AFG</td>\n",
       "      <td>Afghanistan</td>\n",
       "      <td>MLE</td>\n",
       "      <td>Male</td>\n",
       "      <td>54</td>\n",
       "      <td>54.00000</td>\n",
       "    </tr>\n",
       "    <tr>\n",
       "      <th>9</th>\n",
       "      <td>WHOSIS_000001</td>\n",
       "      <td>Life expectancy at birth (years)</td>\n",
       "      <td>PUBLISHED</td>\n",
       "      <td>Published</td>\n",
       "      <td>1990</td>\n",
       "      <td>1990</td>\n",
       "      <td>EMR</td>\n",
       "      <td>Eastern Mediterranean</td>\n",
       "      <td>WB_LI</td>\n",
       "      <td>Low_income</td>\n",
       "      <td>AFG</td>\n",
       "      <td>Afghanistan</td>\n",
       "      <td>BTSX</td>\n",
       "      <td>Both sexes</td>\n",
       "      <td>49</td>\n",
       "      <td>49.00000</td>\n",
       "    </tr>\n",
       "    <tr>\n",
       "      <th>10</th>\n",
       "      <td>WHOSIS_000001</td>\n",
       "      <td>Life expectancy at birth (years)</td>\n",
       "      <td>PUBLISHED</td>\n",
       "      <td>Published</td>\n",
       "      <td>1990</td>\n",
       "      <td>1990</td>\n",
       "      <td>EMR</td>\n",
       "      <td>Eastern Mediterranean</td>\n",
       "      <td>WB_LI</td>\n",
       "      <td>Low_income</td>\n",
       "      <td>AFG</td>\n",
       "      <td>Afghanistan</td>\n",
       "      <td>FMLE</td>\n",
       "      <td>Female</td>\n",
       "      <td>50</td>\n",
       "      <td>50.00000</td>\n",
       "    </tr>\n",
       "    <tr>\n",
       "      <th>11</th>\n",
       "      <td>WHOSIS_000001</td>\n",
       "      <td>Life expectancy at birth (years)</td>\n",
       "      <td>PUBLISHED</td>\n",
       "      <td>Published</td>\n",
       "      <td>1990</td>\n",
       "      <td>1990</td>\n",
       "      <td>EMR</td>\n",
       "      <td>Eastern Mediterranean</td>\n",
       "      <td>WB_LI</td>\n",
       "      <td>Low_income</td>\n",
       "      <td>AFG</td>\n",
       "      <td>Afghanistan</td>\n",
       "      <td>MLE</td>\n",
       "      <td>Male</td>\n",
       "      <td>49</td>\n",
       "      <td>49.00000</td>\n",
       "    </tr>\n",
       "    <tr>\n",
       "      <th>12</th>\n",
       "      <td>WHOSIS_000002</td>\n",
       "      <td>Healthy life expectancy (HALE) at birth (years)</td>\n",
       "      <td>PUBLISHED</td>\n",
       "      <td>Published</td>\n",
       "      <td>2013</td>\n",
       "      <td>2013</td>\n",
       "      <td>EMR</td>\n",
       "      <td>Eastern Mediterranean</td>\n",
       "      <td>WB_LI</td>\n",
       "      <td>Low_income</td>\n",
       "      <td>AFG</td>\n",
       "      <td>Afghanistan</td>\n",
       "      <td>BTSX</td>\n",
       "      <td>Both sexes</td>\n",
       "      <td>50</td>\n",
       "      <td>50.00000</td>\n",
       "    </tr>\n",
       "    <tr>\n",
       "      <th>13</th>\n",
       "      <td>WHOSIS_000002</td>\n",
       "      <td>Healthy life expectancy (HALE) at birth (years)</td>\n",
       "      <td>PUBLISHED</td>\n",
       "      <td>Published</td>\n",
       "      <td>2013</td>\n",
       "      <td>2013</td>\n",
       "      <td>EMR</td>\n",
       "      <td>Eastern Mediterranean</td>\n",
       "      <td>WB_LI</td>\n",
       "      <td>Low_income</td>\n",
       "      <td>AFG</td>\n",
       "      <td>Afghanistan</td>\n",
       "      <td>FMLE</td>\n",
       "      <td>Female</td>\n",
       "      <td>50</td>\n",
       "      <td>49.50000</td>\n",
       "    </tr>\n",
       "    <tr>\n",
       "      <th>14</th>\n",
       "      <td>WHOSIS_000002</td>\n",
       "      <td>Healthy life expectancy (HALE) at birth (years)</td>\n",
       "      <td>PUBLISHED</td>\n",
       "      <td>Published</td>\n",
       "      <td>2013</td>\n",
       "      <td>2013</td>\n",
       "      <td>EMR</td>\n",
       "      <td>Eastern Mediterranean</td>\n",
       "      <td>WB_LI</td>\n",
       "      <td>Low_income</td>\n",
       "      <td>AFG</td>\n",
       "      <td>Afghanistan</td>\n",
       "      <td>MLE</td>\n",
       "      <td>Male</td>\n",
       "      <td>50</td>\n",
       "      <td>50.50000</td>\n",
       "    </tr>\n",
       "    <tr>\n",
       "      <th>15</th>\n",
       "      <td>WHOSIS_000002</td>\n",
       "      <td>Healthy life expectancy (HALE) at birth (years)</td>\n",
       "      <td>PUBLISHED</td>\n",
       "      <td>Published</td>\n",
       "      <td>2012</td>\n",
       "      <td>2012</td>\n",
       "      <td>EMR</td>\n",
       "      <td>Eastern Mediterranean</td>\n",
       "      <td>WB_LI</td>\n",
       "      <td>Low_income</td>\n",
       "      <td>AFG</td>\n",
       "      <td>Afghanistan</td>\n",
       "      <td>BTSX</td>\n",
       "      <td>Both sexes</td>\n",
       "      <td>49</td>\n",
       "      <td>48.80000</td>\n",
       "    </tr>\n",
       "    <tr>\n",
       "      <th>16</th>\n",
       "      <td>WHOSIS_000002</td>\n",
       "      <td>Healthy life expectancy (HALE) at birth (years)</td>\n",
       "      <td>PUBLISHED</td>\n",
       "      <td>Published</td>\n",
       "      <td>2012</td>\n",
       "      <td>2012</td>\n",
       "      <td>EMR</td>\n",
       "      <td>Eastern Mediterranean</td>\n",
       "      <td>WB_LI</td>\n",
       "      <td>Low_income</td>\n",
       "      <td>AFG</td>\n",
       "      <td>Afghanistan</td>\n",
       "      <td>FMLE</td>\n",
       "      <td>Female</td>\n",
       "      <td>49</td>\n",
       "      <td>48.90000</td>\n",
       "    </tr>\n",
       "    <tr>\n",
       "      <th>17</th>\n",
       "      <td>WHOSIS_000002</td>\n",
       "      <td>Healthy life expectancy (HALE) at birth (years)</td>\n",
       "      <td>PUBLISHED</td>\n",
       "      <td>Published</td>\n",
       "      <td>2012</td>\n",
       "      <td>2012</td>\n",
       "      <td>EMR</td>\n",
       "      <td>Eastern Mediterranean</td>\n",
       "      <td>WB_LI</td>\n",
       "      <td>Low_income</td>\n",
       "      <td>AFG</td>\n",
       "      <td>Afghanistan</td>\n",
       "      <td>MLE</td>\n",
       "      <td>Male</td>\n",
       "      <td>49</td>\n",
       "      <td>48.80000</td>\n",
       "    </tr>\n",
       "    <tr>\n",
       "      <th>18</th>\n",
       "      <td>WHOSIS_000002</td>\n",
       "      <td>Healthy life expectancy (HALE) at birth (years)</td>\n",
       "      <td>PUBLISHED</td>\n",
       "      <td>Published</td>\n",
       "      <td>2000</td>\n",
       "      <td>2000</td>\n",
       "      <td>EMR</td>\n",
       "      <td>Eastern Mediterranean</td>\n",
       "      <td>WB_LI</td>\n",
       "      <td>Low_income</td>\n",
       "      <td>AFG</td>\n",
       "      <td>Afghanistan</td>\n",
       "      <td>BTSX</td>\n",
       "      <td>Both sexes</td>\n",
       "      <td>45</td>\n",
       "      <td>44.70000</td>\n",
       "    </tr>\n",
       "    <tr>\n",
       "      <th>19</th>\n",
       "      <td>WHOSIS_000002</td>\n",
       "      <td>Healthy life expectancy (HALE) at birth (years)</td>\n",
       "      <td>PUBLISHED</td>\n",
       "      <td>Published</td>\n",
       "      <td>2000</td>\n",
       "      <td>2000</td>\n",
       "      <td>EMR</td>\n",
       "      <td>Eastern Mediterranean</td>\n",
       "      <td>WB_LI</td>\n",
       "      <td>Low_income</td>\n",
       "      <td>AFG</td>\n",
       "      <td>Afghanistan</td>\n",
       "      <td>FMLE</td>\n",
       "      <td>Female</td>\n",
       "      <td>45</td>\n",
       "      <td>44.60000</td>\n",
       "    </tr>\n",
       "    <tr>\n",
       "      <th>20</th>\n",
       "      <td>WHOSIS_000002</td>\n",
       "      <td>Healthy life expectancy (HALE) at birth (years)</td>\n",
       "      <td>PUBLISHED</td>\n",
       "      <td>Published</td>\n",
       "      <td>2000</td>\n",
       "      <td>2000</td>\n",
       "      <td>EMR</td>\n",
       "      <td>Eastern Mediterranean</td>\n",
       "      <td>WB_LI</td>\n",
       "      <td>Low_income</td>\n",
       "      <td>AFG</td>\n",
       "      <td>Afghanistan</td>\n",
       "      <td>MLE</td>\n",
       "      <td>Male</td>\n",
       "      <td>45</td>\n",
       "      <td>44.70000</td>\n",
       "    </tr>\n",
       "    <tr>\n",
       "      <th>21</th>\n",
       "      <td>WHOSIS_000015</td>\n",
       "      <td>Life expectancy at age 60 (years)</td>\n",
       "      <td>PUBLISHED</td>\n",
       "      <td>Published</td>\n",
       "      <td>2013</td>\n",
       "      <td>2013</td>\n",
       "      <td>EMR</td>\n",
       "      <td>Eastern Mediterranean</td>\n",
       "      <td>NaN</td>\n",
       "      <td>NaN</td>\n",
       "      <td>AFG</td>\n",
       "      <td>Afghanistan</td>\n",
       "      <td>BTSX</td>\n",
       "      <td>Both sexes</td>\n",
       "      <td>16</td>\n",
       "      <td>15.91239</td>\n",
       "    </tr>\n",
       "    <tr>\n",
       "      <th>22</th>\n",
       "      <td>WHOSIS_000015</td>\n",
       "      <td>Life expectancy at age 60 (years)</td>\n",
       "      <td>PUBLISHED</td>\n",
       "      <td>Published</td>\n",
       "      <td>2013</td>\n",
       "      <td>2013</td>\n",
       "      <td>EMR</td>\n",
       "      <td>Eastern Mediterranean</td>\n",
       "      <td>NaN</td>\n",
       "      <td>NaN</td>\n",
       "      <td>AFG</td>\n",
       "      <td>Afghanistan</td>\n",
       "      <td>FMLE</td>\n",
       "      <td>Female</td>\n",
       "      <td>17</td>\n",
       "      <td>16.64068</td>\n",
       "    </tr>\n",
       "    <tr>\n",
       "      <th>23</th>\n",
       "      <td>WHOSIS_000015</td>\n",
       "      <td>Life expectancy at age 60 (years)</td>\n",
       "      <td>PUBLISHED</td>\n",
       "      <td>Published</td>\n",
       "      <td>2013</td>\n",
       "      <td>2013</td>\n",
       "      <td>EMR</td>\n",
       "      <td>Eastern Mediterranean</td>\n",
       "      <td>NaN</td>\n",
       "      <td>NaN</td>\n",
       "      <td>AFG</td>\n",
       "      <td>Afghanistan</td>\n",
       "      <td>MLE</td>\n",
       "      <td>Male</td>\n",
       "      <td>15</td>\n",
       "      <td>15.12307</td>\n",
       "    </tr>\n",
       "    <tr>\n",
       "      <th>24</th>\n",
       "      <td>WHOSIS_000015</td>\n",
       "      <td>Life expectancy at age 60 (years)</td>\n",
       "      <td>PUBLISHED</td>\n",
       "      <td>Published</td>\n",
       "      <td>2012</td>\n",
       "      <td>2012</td>\n",
       "      <td>EMR</td>\n",
       "      <td>Eastern Mediterranean</td>\n",
       "      <td>WB_LI</td>\n",
       "      <td>Low_income</td>\n",
       "      <td>AFG</td>\n",
       "      <td>Afghanistan</td>\n",
       "      <td>BTSX</td>\n",
       "      <td>Both sexes</td>\n",
       "      <td>16</td>\n",
       "      <td>16.00000</td>\n",
       "    </tr>\n",
       "    <tr>\n",
       "      <th>25</th>\n",
       "      <td>WHOSIS_000015</td>\n",
       "      <td>Life expectancy at age 60 (years)</td>\n",
       "      <td>PUBLISHED</td>\n",
       "      <td>Published</td>\n",
       "      <td>2012</td>\n",
       "      <td>2012</td>\n",
       "      <td>EMR</td>\n",
       "      <td>Eastern Mediterranean</td>\n",
       "      <td>WB_LI</td>\n",
       "      <td>Low_income</td>\n",
       "      <td>AFG</td>\n",
       "      <td>Afghanistan</td>\n",
       "      <td>FMLE</td>\n",
       "      <td>Female</td>\n",
       "      <td>17</td>\n",
       "      <td>17.00000</td>\n",
       "    </tr>\n",
       "    <tr>\n",
       "      <th>26</th>\n",
       "      <td>WHOSIS_000015</td>\n",
       "      <td>Life expectancy at age 60 (years)</td>\n",
       "      <td>PUBLISHED</td>\n",
       "      <td>Published</td>\n",
       "      <td>2012</td>\n",
       "      <td>2012</td>\n",
       "      <td>EMR</td>\n",
       "      <td>Eastern Mediterranean</td>\n",
       "      <td>WB_LI</td>\n",
       "      <td>Low_income</td>\n",
       "      <td>AFG</td>\n",
       "      <td>Afghanistan</td>\n",
       "      <td>MLE</td>\n",
       "      <td>Male</td>\n",
       "      <td>15</td>\n",
       "      <td>15.00000</td>\n",
       "    </tr>\n",
       "    <tr>\n",
       "      <th>27</th>\n",
       "      <td>WHOSIS_000015</td>\n",
       "      <td>Life expectancy at age 60 (years)</td>\n",
       "      <td>PUBLISHED</td>\n",
       "      <td>Published</td>\n",
       "      <td>2000</td>\n",
       "      <td>2000</td>\n",
       "      <td>EMR</td>\n",
       "      <td>Eastern Mediterranean</td>\n",
       "      <td>WB_LI</td>\n",
       "      <td>Low_income</td>\n",
       "      <td>AFG</td>\n",
       "      <td>Afghanistan</td>\n",
       "      <td>BTSX</td>\n",
       "      <td>Both sexes</td>\n",
       "      <td>15</td>\n",
       "      <td>15.00000</td>\n",
       "    </tr>\n",
       "    <tr>\n",
       "      <th>28</th>\n",
       "      <td>WHOSIS_000015</td>\n",
       "      <td>Life expectancy at age 60 (years)</td>\n",
       "      <td>PUBLISHED</td>\n",
       "      <td>Published</td>\n",
       "      <td>2000</td>\n",
       "      <td>2000</td>\n",
       "      <td>EMR</td>\n",
       "      <td>Eastern Mediterranean</td>\n",
       "      <td>WB_LI</td>\n",
       "      <td>Low_income</td>\n",
       "      <td>AFG</td>\n",
       "      <td>Afghanistan</td>\n",
       "      <td>FMLE</td>\n",
       "      <td>Female</td>\n",
       "      <td>16</td>\n",
       "      <td>16.00000</td>\n",
       "    </tr>\n",
       "    <tr>\n",
       "      <th>29</th>\n",
       "      <td>WHOSIS_000015</td>\n",
       "      <td>Life expectancy at age 60 (years)</td>\n",
       "      <td>PUBLISHED</td>\n",
       "      <td>Published</td>\n",
       "      <td>2000</td>\n",
       "      <td>2000</td>\n",
       "      <td>EMR</td>\n",
       "      <td>Eastern Mediterranean</td>\n",
       "      <td>WB_LI</td>\n",
       "      <td>Low_income</td>\n",
       "      <td>AFG</td>\n",
       "      <td>Afghanistan</td>\n",
       "      <td>MLE</td>\n",
       "      <td>Male</td>\n",
       "      <td>14</td>\n",
       "      <td>14.00000</td>\n",
       "    </tr>\n",
       "  </tbody>\n",
       "</table>\n",
       "</div>"
      ],
      "text/plain": [
       "          GhoCode                                       GhoDisplay  \\\n",
       "0   WHOSIS_000001                 Life expectancy at birth (years)   \n",
       "1   WHOSIS_000001                 Life expectancy at birth (years)   \n",
       "2   WHOSIS_000001                 Life expectancy at birth (years)   \n",
       "3   WHOSIS_000001                 Life expectancy at birth (years)   \n",
       "4   WHOSIS_000001                 Life expectancy at birth (years)   \n",
       "5   WHOSIS_000001                 Life expectancy at birth (years)   \n",
       "6   WHOSIS_000001                 Life expectancy at birth (years)   \n",
       "7   WHOSIS_000001                 Life expectancy at birth (years)   \n",
       "8   WHOSIS_000001                 Life expectancy at birth (years)   \n",
       "9   WHOSIS_000001                 Life expectancy at birth (years)   \n",
       "10  WHOSIS_000001                 Life expectancy at birth (years)   \n",
       "11  WHOSIS_000001                 Life expectancy at birth (years)   \n",
       "12  WHOSIS_000002  Healthy life expectancy (HALE) at birth (years)   \n",
       "13  WHOSIS_000002  Healthy life expectancy (HALE) at birth (years)   \n",
       "14  WHOSIS_000002  Healthy life expectancy (HALE) at birth (years)   \n",
       "15  WHOSIS_000002  Healthy life expectancy (HALE) at birth (years)   \n",
       "16  WHOSIS_000002  Healthy life expectancy (HALE) at birth (years)   \n",
       "17  WHOSIS_000002  Healthy life expectancy (HALE) at birth (years)   \n",
       "18  WHOSIS_000002  Healthy life expectancy (HALE) at birth (years)   \n",
       "19  WHOSIS_000002  Healthy life expectancy (HALE) at birth (years)   \n",
       "20  WHOSIS_000002  Healthy life expectancy (HALE) at birth (years)   \n",
       "21  WHOSIS_000015                Life expectancy at age 60 (years)   \n",
       "22  WHOSIS_000015                Life expectancy at age 60 (years)   \n",
       "23  WHOSIS_000015                Life expectancy at age 60 (years)   \n",
       "24  WHOSIS_000015                Life expectancy at age 60 (years)   \n",
       "25  WHOSIS_000015                Life expectancy at age 60 (years)   \n",
       "26  WHOSIS_000015                Life expectancy at age 60 (years)   \n",
       "27  WHOSIS_000015                Life expectancy at age 60 (years)   \n",
       "28  WHOSIS_000015                Life expectancy at age 60 (years)   \n",
       "29  WHOSIS_000015                Life expectancy at age 60 (years)   \n",
       "\n",
       "   PublishStateCode PublishStateDisplay  YearCode  YearDisplay RegionCode  \\\n",
       "0         PUBLISHED           Published      2013         2013        EMR   \n",
       "1         PUBLISHED           Published      2013         2013        EMR   \n",
       "2         PUBLISHED           Published      2013         2013        EMR   \n",
       "3         PUBLISHED           Published      2012         2012        EMR   \n",
       "4         PUBLISHED           Published      2012         2012        EMR   \n",
       "5         PUBLISHED           Published      2012         2012        EMR   \n",
       "6         PUBLISHED           Published      2000         2000        EMR   \n",
       "7         PUBLISHED           Published      2000         2000        EMR   \n",
       "8         PUBLISHED           Published      2000         2000        EMR   \n",
       "9         PUBLISHED           Published      1990         1990        EMR   \n",
       "10        PUBLISHED           Published      1990         1990        EMR   \n",
       "11        PUBLISHED           Published      1990         1990        EMR   \n",
       "12        PUBLISHED           Published      2013         2013        EMR   \n",
       "13        PUBLISHED           Published      2013         2013        EMR   \n",
       "14        PUBLISHED           Published      2013         2013        EMR   \n",
       "15        PUBLISHED           Published      2012         2012        EMR   \n",
       "16        PUBLISHED           Published      2012         2012        EMR   \n",
       "17        PUBLISHED           Published      2012         2012        EMR   \n",
       "18        PUBLISHED           Published      2000         2000        EMR   \n",
       "19        PUBLISHED           Published      2000         2000        EMR   \n",
       "20        PUBLISHED           Published      2000         2000        EMR   \n",
       "21        PUBLISHED           Published      2013         2013        EMR   \n",
       "22        PUBLISHED           Published      2013         2013        EMR   \n",
       "23        PUBLISHED           Published      2013         2013        EMR   \n",
       "24        PUBLISHED           Published      2012         2012        EMR   \n",
       "25        PUBLISHED           Published      2012         2012        EMR   \n",
       "26        PUBLISHED           Published      2012         2012        EMR   \n",
       "27        PUBLISHED           Published      2000         2000        EMR   \n",
       "28        PUBLISHED           Published      2000         2000        EMR   \n",
       "29        PUBLISHED           Published      2000         2000        EMR   \n",
       "\n",
       "            RegionDisplay WorldBankIncomeGroupGroupCode  \\\n",
       "0   Eastern Mediterranean                           NaN   \n",
       "1   Eastern Mediterranean                           NaN   \n",
       "2   Eastern Mediterranean                           NaN   \n",
       "3   Eastern Mediterranean                         WB_LI   \n",
       "4   Eastern Mediterranean                         WB_LI   \n",
       "5   Eastern Mediterranean                         WB_LI   \n",
       "6   Eastern Mediterranean                         WB_LI   \n",
       "7   Eastern Mediterranean                         WB_LI   \n",
       "8   Eastern Mediterranean                         WB_LI   \n",
       "9   Eastern Mediterranean                         WB_LI   \n",
       "10  Eastern Mediterranean                         WB_LI   \n",
       "11  Eastern Mediterranean                         WB_LI   \n",
       "12  Eastern Mediterranean                         WB_LI   \n",
       "13  Eastern Mediterranean                         WB_LI   \n",
       "14  Eastern Mediterranean                         WB_LI   \n",
       "15  Eastern Mediterranean                         WB_LI   \n",
       "16  Eastern Mediterranean                         WB_LI   \n",
       "17  Eastern Mediterranean                         WB_LI   \n",
       "18  Eastern Mediterranean                         WB_LI   \n",
       "19  Eastern Mediterranean                         WB_LI   \n",
       "20  Eastern Mediterranean                         WB_LI   \n",
       "21  Eastern Mediterranean                           NaN   \n",
       "22  Eastern Mediterranean                           NaN   \n",
       "23  Eastern Mediterranean                           NaN   \n",
       "24  Eastern Mediterranean                         WB_LI   \n",
       "25  Eastern Mediterranean                         WB_LI   \n",
       "26  Eastern Mediterranean                         WB_LI   \n",
       "27  Eastern Mediterranean                         WB_LI   \n",
       "28  Eastern Mediterranean                         WB_LI   \n",
       "29  Eastern Mediterranean                         WB_LI   \n",
       "\n",
       "   WorldBankIncomeGroupDisplay CountryCode CountryDisplay SexCode  SexDisplay  \\\n",
       "0                          NaN         AFG    Afghanistan    BTSX  Both sexes   \n",
       "1                          NaN         AFG    Afghanistan    FMLE      Female   \n",
       "2                          NaN         AFG    Afghanistan     MLE        Male   \n",
       "3                   Low_income         AFG    Afghanistan    BTSX  Both sexes   \n",
       "4                   Low_income         AFG    Afghanistan    FMLE      Female   \n",
       "5                   Low_income         AFG    Afghanistan     MLE        Male   \n",
       "6                   Low_income         AFG    Afghanistan    BTSX  Both sexes   \n",
       "7                   Low_income         AFG    Afghanistan    FMLE      Female   \n",
       "8                   Low_income         AFG    Afghanistan     MLE        Male   \n",
       "9                   Low_income         AFG    Afghanistan    BTSX  Both sexes   \n",
       "10                  Low_income         AFG    Afghanistan    FMLE      Female   \n",
       "11                  Low_income         AFG    Afghanistan     MLE        Male   \n",
       "12                  Low_income         AFG    Afghanistan    BTSX  Both sexes   \n",
       "13                  Low_income         AFG    Afghanistan    FMLE      Female   \n",
       "14                  Low_income         AFG    Afghanistan     MLE        Male   \n",
       "15                  Low_income         AFG    Afghanistan    BTSX  Both sexes   \n",
       "16                  Low_income         AFG    Afghanistan    FMLE      Female   \n",
       "17                  Low_income         AFG    Afghanistan     MLE        Male   \n",
       "18                  Low_income         AFG    Afghanistan    BTSX  Both sexes   \n",
       "19                  Low_income         AFG    Afghanistan    FMLE      Female   \n",
       "20                  Low_income         AFG    Afghanistan     MLE        Male   \n",
       "21                         NaN         AFG    Afghanistan    BTSX  Both sexes   \n",
       "22                         NaN         AFG    Afghanistan    FMLE      Female   \n",
       "23                         NaN         AFG    Afghanistan     MLE        Male   \n",
       "24                  Low_income         AFG    Afghanistan    BTSX  Both sexes   \n",
       "25                  Low_income         AFG    Afghanistan    FMLE      Female   \n",
       "26                  Low_income         AFG    Afghanistan     MLE        Male   \n",
       "27                  Low_income         AFG    Afghanistan    BTSX  Both sexes   \n",
       "28                  Low_income         AFG    Afghanistan    FMLE      Female   \n",
       "29                  Low_income         AFG    Afghanistan     MLE        Male   \n",
       "\n",
       "    DisplayValue   Numeric  \n",
       "0             61  61.25205  \n",
       "1             62  61.97733  \n",
       "2             61  60.51228  \n",
       "3             60  60.00000  \n",
       "4             61  61.00000  \n",
       "5             58  58.00000  \n",
       "6             55  55.00000  \n",
       "7             56  56.00000  \n",
       "8             54  54.00000  \n",
       "9             49  49.00000  \n",
       "10            50  50.00000  \n",
       "11            49  49.00000  \n",
       "12            50  50.00000  \n",
       "13            50  49.50000  \n",
       "14            50  50.50000  \n",
       "15            49  48.80000  \n",
       "16            49  48.90000  \n",
       "17            49  48.80000  \n",
       "18            45  44.70000  \n",
       "19            45  44.60000  \n",
       "20            45  44.70000  \n",
       "21            16  15.91239  \n",
       "22            17  16.64068  \n",
       "23            15  15.12307  \n",
       "24            16  16.00000  \n",
       "25            17  17.00000  \n",
       "26            15  15.00000  \n",
       "27            15  15.00000  \n",
       "28            16  16.00000  \n",
       "29            14  14.00000  "
      ]
     },
     "execution_count": 18,
     "metadata": {},
     "output_type": "execute_result"
    }
   ],
   "source": [
    "life_exp = pd.read_csv(\"LifeExpectancy.csv\")\n",
    "life_exp.head(30)"
   ]
  },
  {
   "cell_type": "code",
   "execution_count": 19,
   "id": "a0eb672b",
   "metadata": {},
   "outputs": [
    {
     "data": {
      "text/plain": [
       "GhoCode                           object\n",
       "GhoDisplay                        object\n",
       "PublishStateCode                  object\n",
       "PublishStateDisplay               object\n",
       "YearCode                           int64\n",
       "YearDisplay                        int64\n",
       "RegionCode                        object\n",
       "RegionDisplay                     object\n",
       "WorldBankIncomeGroupGroupCode     object\n",
       "WorldBankIncomeGroupDisplay       object\n",
       "CountryCode                       object\n",
       "CountryDisplay                    object\n",
       "SexCode                           object\n",
       "SexDisplay                        object\n",
       "DisplayValue                       int64\n",
       "Numeric                          float64\n",
       "dtype: object"
      ]
     },
     "execution_count": 19,
     "metadata": {},
     "output_type": "execute_result"
    }
   ],
   "source": [
    "life_exp.dtypes"
   ]
  },
  {
   "cell_type": "markdown",
   "id": "2e4237cf",
   "metadata": {},
   "source": [
    "The 'Numeric' column contains the life expectancy numbers. "
   ]
  },
  {
   "cell_type": "code",
   "execution_count": 20,
   "id": "9f65d818",
   "metadata": {},
   "outputs": [
    {
     "data": {
      "text/html": [
       "<div>\n",
       "<style scoped>\n",
       "    .dataframe tbody tr th:only-of-type {\n",
       "        vertical-align: middle;\n",
       "    }\n",
       "\n",
       "    .dataframe tbody tr th {\n",
       "        vertical-align: top;\n",
       "    }\n",
       "\n",
       "    .dataframe thead th {\n",
       "        text-align: right;\n",
       "    }\n",
       "</style>\n",
       "<table border=\"1\" class=\"dataframe\">\n",
       "  <thead>\n",
       "    <tr style=\"text-align: right;\">\n",
       "      <th></th>\n",
       "      <th>YearCode</th>\n",
       "      <th>YearDisplay</th>\n",
       "      <th>DisplayValue</th>\n",
       "      <th>Numeric</th>\n",
       "    </tr>\n",
       "  </thead>\n",
       "  <tbody>\n",
       "    <tr>\n",
       "      <th>count</th>\n",
       "      <td>6408.000000</td>\n",
       "      <td>6408.000000</td>\n",
       "      <td>6408.000000</td>\n",
       "      <td>6408.000000</td>\n",
       "    </tr>\n",
       "    <tr>\n",
       "      <th>mean</th>\n",
       "      <td>2005.000936</td>\n",
       "      <td>2005.000936</td>\n",
       "      <td>48.143571</td>\n",
       "      <td>48.145528</td>\n",
       "    </tr>\n",
       "    <tr>\n",
       "      <th>std</th>\n",
       "      <td>8.861084</td>\n",
       "      <td>8.861084</td>\n",
       "      <td>23.774807</td>\n",
       "      <td>23.775598</td>\n",
       "    </tr>\n",
       "    <tr>\n",
       "      <th>min</th>\n",
       "      <td>1990.000000</td>\n",
       "      <td>1990.000000</td>\n",
       "      <td>11.000000</td>\n",
       "      <td>11.000000</td>\n",
       "    </tr>\n",
       "    <tr>\n",
       "      <th>25%</th>\n",
       "      <td>2000.000000</td>\n",
       "      <td>2000.000000</td>\n",
       "      <td>20.000000</td>\n",
       "      <td>20.000000</td>\n",
       "    </tr>\n",
       "    <tr>\n",
       "      <th>50%</th>\n",
       "      <td>2012.000000</td>\n",
       "      <td>2012.000000</td>\n",
       "      <td>57.000000</td>\n",
       "      <td>56.979710</td>\n",
       "    </tr>\n",
       "    <tr>\n",
       "      <th>75%</th>\n",
       "      <td>2013.000000</td>\n",
       "      <td>2013.000000</td>\n",
       "      <td>69.000000</td>\n",
       "      <td>69.000000</td>\n",
       "    </tr>\n",
       "    <tr>\n",
       "      <th>max</th>\n",
       "      <td>2013.000000</td>\n",
       "      <td>2013.000000</td>\n",
       "      <td>87.000000</td>\n",
       "      <td>87.154570</td>\n",
       "    </tr>\n",
       "  </tbody>\n",
       "</table>\n",
       "</div>"
      ],
      "text/plain": [
       "          YearCode  YearDisplay  DisplayValue      Numeric\n",
       "count  6408.000000  6408.000000   6408.000000  6408.000000\n",
       "mean   2005.000936  2005.000936     48.143571    48.145528\n",
       "std       8.861084     8.861084     23.774807    23.775598\n",
       "min    1990.000000  1990.000000     11.000000    11.000000\n",
       "25%    2000.000000  2000.000000     20.000000    20.000000\n",
       "50%    2012.000000  2012.000000     57.000000    56.979710\n",
       "75%    2013.000000  2013.000000     69.000000    69.000000\n",
       "max    2013.000000  2013.000000     87.000000    87.154570"
      ]
     },
     "execution_count": 20,
     "metadata": {},
     "output_type": "execute_result"
    }
   ],
   "source": [
    "life_exp.describe()"
   ]
  },
  {
   "cell_type": "markdown",
   "id": "f37950d0",
   "metadata": {},
   "source": [
    "The lowest value is apparently 11, which looks like an error at first glance, but there is a type of life expectancy (life exp. at age 60) which is a much lower number, so maybe that's the reason."
   ]
  },
  {
   "cell_type": "code",
   "execution_count": 21,
   "id": "7bdb128e",
   "metadata": {},
   "outputs": [
    {
     "data": {
      "text/plain": [
       "count    2328.000000\n",
       "mean       68.441379\n",
       "std        10.051907\n",
       "min        38.000000\n",
       "25%        62.000000\n",
       "50%        70.857895\n",
       "75%        76.000000\n",
       "max        87.154570\n",
       "Name: Numeric, dtype: float64"
      ]
     },
     "execution_count": 21,
     "metadata": {},
     "output_type": "execute_result"
    }
   ],
   "source": [
    "life_exp1 = life_exp[life_exp.GhoDisplay == 'Life expectancy at birth (years)']\n",
    "life_exp1.Numeric.describe()"
   ]
  },
  {
   "cell_type": "markdown",
   "id": "5026036f",
   "metadata": {},
   "source": [
    "Now the minimum is 38, which is still very low but possible. I'm going to keep this df, not including the other types of life expectancy, as I think this is the most relevant for our purposes.\n",
    "\n",
    "We saw earlier, that there are values for multiple years. Let's only keep the most recent, which is 2013."
   ]
  },
  {
   "cell_type": "code",
   "execution_count": 22,
   "id": "380bb11f",
   "metadata": {},
   "outputs": [],
   "source": [
    "life_exp1 = life_exp1[life_exp1['YearCode'] == life_exp1['YearCode'].unique().max()]"
   ]
  },
  {
   "cell_type": "markdown",
   "id": "fecd2261",
   "metadata": {},
   "source": [
    "## Merge drinks and lifetime data by country"
   ]
  },
  {
   "cell_type": "code",
   "execution_count": 23,
   "id": "221e5a8a",
   "metadata": {},
   "outputs": [
    {
     "data": {
      "text/plain": [
       "177"
      ]
     },
     "execution_count": 23,
     "metadata": {},
     "output_type": "execute_result"
    }
   ],
   "source": [
    "# let's check if the countries are matching in the two datasets\n",
    "\n",
    "len(drinks['country'].unique())"
   ]
  },
  {
   "cell_type": "code",
   "execution_count": 24,
   "id": "d256f1f8",
   "metadata": {},
   "outputs": [
    {
     "data": {
      "text/plain": [
       "194"
      ]
     },
     "execution_count": 24,
     "metadata": {},
     "output_type": "execute_result"
    }
   ],
   "source": [
    "len(life_exp1['CountryDisplay'].unique())"
   ]
  },
  {
   "cell_type": "code",
   "execution_count": 25,
   "id": "564e2626",
   "metadata": {},
   "outputs": [],
   "source": [
    "# let's find the differences\n",
    "\n",
    "countries_all = pd.concat([pd.DataFrame(life_exp['CountryDisplay'].unique()), drinks['country']])"
   ]
  },
  {
   "cell_type": "code",
   "execution_count": 26,
   "id": "bc3eb623",
   "metadata": {},
   "outputs": [],
   "source": [
    "countries_all = pd.concat([drinks['country'], pd.DataFrame(life_exp['CountryDisplay'].unique())])\n",
    "countries_all.columns = ['country']"
   ]
  },
  {
   "cell_type": "code",
   "execution_count": 27,
   "id": "d8376ba6",
   "metadata": {},
   "outputs": [],
   "source": [
    "country_all2=countries_all.groupby('country')['country'].count()"
   ]
  },
  {
   "cell_type": "code",
   "execution_count": 28,
   "id": "7083b1cb",
   "metadata": {},
   "outputs": [
    {
     "data": {
      "text/plain": [
       "['Afghanistan',\n",
       " 'Antigua & Barbuda',\n",
       " 'Antigua and Barbuda',\n",
       " 'Bahamas',\n",
       " 'Bangladesh',\n",
       " 'Bolivia',\n",
       " 'Bolivia (Plurinational State of)',\n",
       " 'Bosnia and Herzegovina',\n",
       " 'Bosnia-Herzegovina',\n",
       " 'Brunei',\n",
       " 'Brunei Darussalam',\n",
       " \"Cote d'Ivoire\",\n",
       " \"Côte d'Ivoire\",\n",
       " 'DR Congo',\n",
       " \"Democratic People's Republic of Korea\",\n",
       " 'Democratic Republic of the Congo',\n",
       " 'Denmark',\n",
       " 'Guinea-Bissau',\n",
       " 'Guinea_Bissau',\n",
       " 'Iran (Islamic Republic of)',\n",
       " 'Kuwait',\n",
       " \"Lao People's Democratic Republic\",\n",
       " 'Laos',\n",
       " 'Libya',\n",
       " 'Maldives',\n",
       " 'Marshall Islands',\n",
       " 'Mauritania',\n",
       " 'Micronesia',\n",
       " 'Micronesia (Federated States of)',\n",
       " 'Moldova',\n",
       " 'Monaco',\n",
       " 'Pakistan',\n",
       " 'Republic of Korea',\n",
       " 'Republic of Moldova',\n",
       " 'Saint Kitts and Nevis',\n",
       " 'Saint Lucia',\n",
       " 'Saint Vincent and the Grenadines',\n",
       " 'San Marino',\n",
       " 'Sao Tome & Principe',\n",
       " 'Sao Tome and Principe',\n",
       " 'Somalia',\n",
       " 'South Korea',\n",
       " 'South Sudan',\n",
       " 'St. Kitts & Nevis',\n",
       " 'St. Lucia',\n",
       " 'St. Vincent & the Grenadines',\n",
       " 'Syria',\n",
       " 'Syrian Arab Republic',\n",
       " 'Tanzania',\n",
       " 'The former Yugoslav republic of Macedonia',\n",
       " 'Timor-Leste',\n",
       " 'Timor_Leste',\n",
       " 'Trinidad & Tobago',\n",
       " 'Trinidad and Tobago',\n",
       " 'USA',\n",
       " 'United Kingdom',\n",
       " 'United Kingdom of Great Britain and Northern Ireland',\n",
       " 'United Republic of Tanzania',\n",
       " 'United States of America',\n",
       " 'Venezuela',\n",
       " 'Venezuela (Bolivarian Republic of)',\n",
       " 'Viet Nam',\n",
       " 'Vietnam']"
      ]
     },
     "execution_count": 28,
     "metadata": {},
     "output_type": "execute_result"
    }
   ],
   "source": [
    "country_all2[country_all2 < 2].index.tolist()"
   ]
  },
  {
   "cell_type": "markdown",
   "id": "6f1141f7",
   "metadata": {},
   "source": [
    "Other than the countries we dropped earlier, there are differences due to the same countries having different names in the two dfs. I'm going to try to fix it with fuzzymatcher."
   ]
  },
  {
   "cell_type": "code",
   "execution_count": 29,
   "id": "a6ac9926",
   "metadata": {},
   "outputs": [],
   "source": [
    "import fuzzymatcher\n",
    "\n",
    "country_all4 = fuzzymatcher.fuzzy_left_join(drinks, life_exp1, ['country'], ['CountryDisplay'])"
   ]
  },
  {
   "cell_type": "code",
   "execution_count": 30,
   "id": "16d4b8b0",
   "metadata": {},
   "outputs": [],
   "source": [
    "country_all4 = country_all4[['country', 'CountryDisplay']]"
   ]
  },
  {
   "cell_type": "code",
   "execution_count": 31,
   "id": "e0f26719",
   "metadata": {},
   "outputs": [
    {
     "data": {
      "text/html": [
       "<div>\n",
       "<style scoped>\n",
       "    .dataframe tbody tr th:only-of-type {\n",
       "        vertical-align: middle;\n",
       "    }\n",
       "\n",
       "    .dataframe tbody tr th {\n",
       "        vertical-align: top;\n",
       "    }\n",
       "\n",
       "    .dataframe thead th {\n",
       "        text-align: right;\n",
       "    }\n",
       "</style>\n",
       "<table border=\"1\" class=\"dataframe\">\n",
       "  <thead>\n",
       "    <tr style=\"text-align: right;\">\n",
       "      <th></th>\n",
       "      <th>country</th>\n",
       "      <th>CountryDisplay</th>\n",
       "    </tr>\n",
       "  </thead>\n",
       "  <tbody>\n",
       "    <tr>\n",
       "      <th>0</th>\n",
       "      <td>Albania</td>\n",
       "      <td>Albania</td>\n",
       "    </tr>\n",
       "    <tr>\n",
       "      <th>3</th>\n",
       "      <td>Algeria</td>\n",
       "      <td>Algeria</td>\n",
       "    </tr>\n",
       "    <tr>\n",
       "      <th>6</th>\n",
       "      <td>Andorra</td>\n",
       "      <td>Andorra</td>\n",
       "    </tr>\n",
       "    <tr>\n",
       "      <th>9</th>\n",
       "      <td>Angola</td>\n",
       "      <td>Angola</td>\n",
       "    </tr>\n",
       "    <tr>\n",
       "      <th>12</th>\n",
       "      <td>Antigua &amp; Barbuda</td>\n",
       "      <td>Antigua and Barbuda</td>\n",
       "    </tr>\n",
       "    <tr>\n",
       "      <th>...</th>\n",
       "      <td>...</td>\n",
       "      <td>...</td>\n",
       "    </tr>\n",
       "    <tr>\n",
       "      <th>556</th>\n",
       "      <td>Venezuela</td>\n",
       "      <td>Venezuela (Bolivarian Republic of)</td>\n",
       "    </tr>\n",
       "    <tr>\n",
       "      <th>559</th>\n",
       "      <td>Vietnam</td>\n",
       "      <td>NaN</td>\n",
       "    </tr>\n",
       "    <tr>\n",
       "      <th>560</th>\n",
       "      <td>Yemen</td>\n",
       "      <td>Yemen</td>\n",
       "    </tr>\n",
       "    <tr>\n",
       "      <th>563</th>\n",
       "      <td>Zambia</td>\n",
       "      <td>Zambia</td>\n",
       "    </tr>\n",
       "    <tr>\n",
       "      <th>566</th>\n",
       "      <td>Zimbabwe</td>\n",
       "      <td>Zimbabwe</td>\n",
       "    </tr>\n",
       "  </tbody>\n",
       "</table>\n",
       "<p>177 rows × 2 columns</p>\n",
       "</div>"
      ],
      "text/plain": [
       "               country                      CountryDisplay\n",
       "0              Albania                             Albania\n",
       "3              Algeria                             Algeria\n",
       "6              Andorra                             Andorra\n",
       "9               Angola                              Angola\n",
       "12   Antigua & Barbuda                 Antigua and Barbuda\n",
       "..                 ...                                 ...\n",
       "556          Venezuela  Venezuela (Bolivarian Republic of)\n",
       "559            Vietnam                                 NaN\n",
       "560              Yemen                               Yemen\n",
       "563             Zambia                              Zambia\n",
       "566           Zimbabwe                            Zimbabwe\n",
       "\n",
       "[177 rows x 2 columns]"
      ]
     },
     "execution_count": 31,
     "metadata": {},
     "output_type": "execute_result"
    }
   ],
   "source": [
    "#pd.set_option('display.max_rows', None)\n",
    "country_all4"
   ]
  },
  {
   "cell_type": "markdown",
   "id": "04c0bd2d",
   "metadata": {},
   "source": [
    "Looks like there are missing values, meaning that the fuzzymatcher didn't find a match for them for whatever reason. Let's check them:"
   ]
  },
  {
   "cell_type": "code",
   "execution_count": 32,
   "id": "b80a3299",
   "metadata": {},
   "outputs": [
    {
     "data": {
      "text/html": [
       "<div>\n",
       "<style scoped>\n",
       "    .dataframe tbody tr th:only-of-type {\n",
       "        vertical-align: middle;\n",
       "    }\n",
       "\n",
       "    .dataframe tbody tr th {\n",
       "        vertical-align: top;\n",
       "    }\n",
       "\n",
       "    .dataframe thead th {\n",
       "        text-align: right;\n",
       "    }\n",
       "</style>\n",
       "<table border=\"1\" class=\"dataframe\">\n",
       "  <thead>\n",
       "    <tr style=\"text-align: right;\">\n",
       "      <th></th>\n",
       "      <th>country</th>\n",
       "      <th>CountryDisplay</th>\n",
       "    </tr>\n",
       "  </thead>\n",
       "  <tbody>\n",
       "    <tr>\n",
       "      <th>282</th>\n",
       "      <td>Laos</td>\n",
       "      <td>NaN</td>\n",
       "    </tr>\n",
       "    <tr>\n",
       "      <th>493</th>\n",
       "      <td>Syria</td>\n",
       "      <td>NaN</td>\n",
       "    </tr>\n",
       "    <tr>\n",
       "      <th>503</th>\n",
       "      <td>Timor-Leste</td>\n",
       "      <td>NaN</td>\n",
       "    </tr>\n",
       "    <tr>\n",
       "      <th>549</th>\n",
       "      <td>USA</td>\n",
       "      <td>NaN</td>\n",
       "    </tr>\n",
       "    <tr>\n",
       "      <th>559</th>\n",
       "      <td>Vietnam</td>\n",
       "      <td>NaN</td>\n",
       "    </tr>\n",
       "  </tbody>\n",
       "</table>\n",
       "</div>"
      ],
      "text/plain": [
       "         country CountryDisplay\n",
       "282         Laos            NaN\n",
       "493        Syria            NaN\n",
       "503  Timor-Leste            NaN\n",
       "549          USA            NaN\n",
       "559      Vietnam            NaN"
      ]
     },
     "execution_count": 32,
     "metadata": {},
     "output_type": "execute_result"
    }
   ],
   "source": [
    "country_tocheck = country_all4[country_all4['CountryDisplay'].isna()]\n",
    "country_tocheck"
   ]
  },
  {
   "cell_type": "markdown",
   "id": "d747f73a",
   "metadata": {},
   "source": [
    "We'll get back to these later. Now let's check if the others with a match are in fact the proper matches. I'm doing that by comparing the original country names with the new ones, character for character, for the first ten characters. I'm assuming if the first 10 characters are a match, it is almost certainly the same country:"
   ]
  },
  {
   "cell_type": "code",
   "execution_count": 33,
   "id": "b43b210e",
   "metadata": {},
   "outputs": [
    {
     "name": "stderr",
     "output_type": "stream",
     "text": [
      "/var/folders/n8/4qkbch054_dcrcnsw7khkv340000gn/T/ipykernel_7454/554141571.py:5: SettingWithCopyWarning: \n",
      "A value is trying to be set on a copy of a slice from a DataFrame.\n",
      "Try using .loc[row_indexer,col_indexer] = value instead\n",
      "\n",
      "See the caveats in the documentation: https://pandas.pydata.org/pandas-docs/stable/user_guide/indexing.html#returning-a-view-versus-a-copy\n",
      "  country_all5['country_okay'] = 0\n",
      "/var/folders/n8/4qkbch054_dcrcnsw7khkv340000gn/T/ipykernel_7454/554141571.py:9: SettingWithCopyWarning: \n",
      "A value is trying to be set on a copy of a slice from a DataFrame\n",
      "\n",
      "See the caveats in the documentation: https://pandas.pydata.org/pandas-docs/stable/user_guide/indexing.html#returning-a-view-versus-a-copy\n",
      "  country_all5['country_okay'].iloc[i] = 'okay'\n",
      "/var/folders/n8/4qkbch054_dcrcnsw7khkv340000gn/T/ipykernel_7454/554141571.py:11: SettingWithCopyWarning: \n",
      "A value is trying to be set on a copy of a slice from a DataFrame\n",
      "\n",
      "See the caveats in the documentation: https://pandas.pydata.org/pandas-docs/stable/user_guide/indexing.html#returning-a-view-versus-a-copy\n",
      "  country_all5['country_okay'].iloc[i] = 'not okay'\n"
     ]
    }
   ],
   "source": [
    "country_all5 = country_all4[country_all4['CountryDisplay'].notna()]\n",
    "\n",
    "# let's check if fuzzy matching worked\n",
    "\n",
    "country_all5['country_okay'] = 0\n",
    "\n",
    "for i in range(len(country_all5)):\n",
    "    if (country_all5.iloc[i,0][0:10] == country_all5.iloc[i,1][0:10]):\n",
    "        country_all5['country_okay'].iloc[i] = 'okay'\n",
    "    else:\n",
    "        country_all5['country_okay'].iloc[i] = 'not okay'"
   ]
  },
  {
   "cell_type": "code",
   "execution_count": 34,
   "id": "fdf6711b",
   "metadata": {},
   "outputs": [
    {
     "data": {
      "text/html": [
       "<div>\n",
       "<style scoped>\n",
       "    .dataframe tbody tr th:only-of-type {\n",
       "        vertical-align: middle;\n",
       "    }\n",
       "\n",
       "    .dataframe tbody tr th {\n",
       "        vertical-align: top;\n",
       "    }\n",
       "\n",
       "    .dataframe thead th {\n",
       "        text-align: right;\n",
       "    }\n",
       "</style>\n",
       "<table border=\"1\" class=\"dataframe\">\n",
       "  <thead>\n",
       "    <tr style=\"text-align: right;\">\n",
       "      <th></th>\n",
       "      <th>country</th>\n",
       "      <th>CountryDisplay</th>\n",
       "      <th>country_okay</th>\n",
       "    </tr>\n",
       "  </thead>\n",
       "  <tbody>\n",
       "    <tr>\n",
       "      <th>12</th>\n",
       "      <td>Antigua &amp; Barbuda</td>\n",
       "      <td>Antigua and Barbuda</td>\n",
       "      <td>not okay</td>\n",
       "    </tr>\n",
       "    <tr>\n",
       "      <th>51</th>\n",
       "      <td>Bolivia</td>\n",
       "      <td>Bolivia (Plurinational State of)</td>\n",
       "      <td>not okay</td>\n",
       "    </tr>\n",
       "    <tr>\n",
       "      <th>54</th>\n",
       "      <td>Bosnia-Herzegovina</td>\n",
       "      <td>Bosnia and Herzegovina</td>\n",
       "      <td>not okay</td>\n",
       "    </tr>\n",
       "    <tr>\n",
       "      <th>63</th>\n",
       "      <td>Brunei</td>\n",
       "      <td>Brunei Darussalam</td>\n",
       "      <td>not okay</td>\n",
       "    </tr>\n",
       "    <tr>\n",
       "      <th>117</th>\n",
       "      <td>Cote d'Ivoire</td>\n",
       "      <td>Côte d'Ivoire</td>\n",
       "      <td>not okay</td>\n",
       "    </tr>\n",
       "    <tr>\n",
       "      <th>141</th>\n",
       "      <td>DR Congo</td>\n",
       "      <td>Congo</td>\n",
       "      <td>not okay</td>\n",
       "    </tr>\n",
       "    <tr>\n",
       "      <th>213</th>\n",
       "      <td>Guinea-Bissau</td>\n",
       "      <td>Guinea</td>\n",
       "      <td>not okay</td>\n",
       "    </tr>\n",
       "    <tr>\n",
       "      <th>325</th>\n",
       "      <td>Moldova</td>\n",
       "      <td>Republic of Moldova</td>\n",
       "      <td>not okay</td>\n",
       "    </tr>\n",
       "    <tr>\n",
       "      <th>415</th>\n",
       "      <td>Sao Tome &amp; Principe</td>\n",
       "      <td>Sao Tome and Principe</td>\n",
       "      <td>not okay</td>\n",
       "    </tr>\n",
       "    <tr>\n",
       "      <th>448</th>\n",
       "      <td>South Korea</td>\n",
       "      <td>South Sudan</td>\n",
       "      <td>not okay</td>\n",
       "    </tr>\n",
       "    <tr>\n",
       "      <th>466</th>\n",
       "      <td>St. Kitts &amp; Nevis</td>\n",
       "      <td>Saint Kitts and Nevis</td>\n",
       "      <td>not okay</td>\n",
       "    </tr>\n",
       "    <tr>\n",
       "      <th>469</th>\n",
       "      <td>St. Lucia</td>\n",
       "      <td>Saint Lucia</td>\n",
       "      <td>not okay</td>\n",
       "    </tr>\n",
       "    <tr>\n",
       "      <th>472</th>\n",
       "      <td>St. Vincent &amp; the Grenadines</td>\n",
       "      <td>Saint Vincent and the Grenadines</td>\n",
       "      <td>not okay</td>\n",
       "    </tr>\n",
       "    <tr>\n",
       "      <th>497</th>\n",
       "      <td>Tanzania</td>\n",
       "      <td>United Republic of Tanzania</td>\n",
       "      <td>not okay</td>\n",
       "    </tr>\n",
       "    <tr>\n",
       "      <th>510</th>\n",
       "      <td>Trinidad &amp; Tobago</td>\n",
       "      <td>Trinidad and Tobago</td>\n",
       "      <td>not okay</td>\n",
       "    </tr>\n",
       "    <tr>\n",
       "      <th>534</th>\n",
       "      <td>United Kingdom</td>\n",
       "      <td>United Arab Emirates</td>\n",
       "      <td>not okay</td>\n",
       "    </tr>\n",
       "    <tr>\n",
       "      <th>556</th>\n",
       "      <td>Venezuela</td>\n",
       "      <td>Venezuela (Bolivarian Republic of)</td>\n",
       "      <td>not okay</td>\n",
       "    </tr>\n",
       "  </tbody>\n",
       "</table>\n",
       "</div>"
      ],
      "text/plain": [
       "                          country                      CountryDisplay  \\\n",
       "12              Antigua & Barbuda                 Antigua and Barbuda   \n",
       "51                        Bolivia    Bolivia (Plurinational State of)   \n",
       "54             Bosnia-Herzegovina              Bosnia and Herzegovina   \n",
       "63                         Brunei                   Brunei Darussalam   \n",
       "117                 Cote d'Ivoire                       Côte d'Ivoire   \n",
       "141                      DR Congo                               Congo   \n",
       "213                 Guinea-Bissau                              Guinea   \n",
       "325                       Moldova                 Republic of Moldova   \n",
       "415           Sao Tome & Principe               Sao Tome and Principe   \n",
       "448                   South Korea                         South Sudan   \n",
       "466             St. Kitts & Nevis               Saint Kitts and Nevis   \n",
       "469                     St. Lucia                         Saint Lucia   \n",
       "472  St. Vincent & the Grenadines    Saint Vincent and the Grenadines   \n",
       "497                      Tanzania         United Republic of Tanzania   \n",
       "510             Trinidad & Tobago                 Trinidad and Tobago   \n",
       "534                United Kingdom                United Arab Emirates   \n",
       "556                     Venezuela  Venezuela (Bolivarian Republic of)   \n",
       "\n",
       "    country_okay  \n",
       "12      not okay  \n",
       "51      not okay  \n",
       "54      not okay  \n",
       "63      not okay  \n",
       "117     not okay  \n",
       "141     not okay  \n",
       "213     not okay  \n",
       "325     not okay  \n",
       "415     not okay  \n",
       "448     not okay  \n",
       "466     not okay  \n",
       "469     not okay  \n",
       "472     not okay  \n",
       "497     not okay  \n",
       "510     not okay  \n",
       "534     not okay  \n",
       "556     not okay  "
      ]
     },
     "execution_count": 34,
     "metadata": {},
     "output_type": "execute_result"
    }
   ],
   "source": [
    "country_all5[country_all5['country_okay'] == 'not okay']"
   ]
  },
  {
   "cell_type": "markdown",
   "id": "501a4abe",
   "metadata": {},
   "source": [
    "Aside from some obvious errors (UK and South Korea), most of them look okay. However if I remember correctly, there are multiple Congos and Guineas, so let's make sure the matcher got the right one."
   ]
  },
  {
   "cell_type": "code",
   "execution_count": 35,
   "id": "ccd4fa92",
   "metadata": {},
   "outputs": [
    {
     "data": {
      "text/html": [
       "<div>\n",
       "<style scoped>\n",
       "    .dataframe tbody tr th:only-of-type {\n",
       "        vertical-align: middle;\n",
       "    }\n",
       "\n",
       "    .dataframe tbody tr th {\n",
       "        vertical-align: top;\n",
       "    }\n",
       "\n",
       "    .dataframe thead th {\n",
       "        text-align: right;\n",
       "    }\n",
       "</style>\n",
       "<table border=\"1\" class=\"dataframe\">\n",
       "  <thead>\n",
       "    <tr style=\"text-align: right;\">\n",
       "      <th></th>\n",
       "      <th>country</th>\n",
       "      <th>beer_servings</th>\n",
       "      <th>spirit_servings</th>\n",
       "      <th>wine_servings</th>\n",
       "      <th>total_litres_of_pure_alcohol</th>\n",
       "    </tr>\n",
       "  </thead>\n",
       "  <tbody>\n",
       "    <tr>\n",
       "      <th>38</th>\n",
       "      <td>Congo</td>\n",
       "      <td>76.0</td>\n",
       "      <td>1.0</td>\n",
       "      <td>9.0</td>\n",
       "      <td>1.5222</td>\n",
       "    </tr>\n",
       "    <tr>\n",
       "      <th>50</th>\n",
       "      <td>DR Congo</td>\n",
       "      <td>32.0</td>\n",
       "      <td>3.0</td>\n",
       "      <td>1.0</td>\n",
       "      <td>0.6372</td>\n",
       "    </tr>\n",
       "  </tbody>\n",
       "</table>\n",
       "</div>"
      ],
      "text/plain": [
       "     country  beer_servings  spirit_servings  wine_servings  \\\n",
       "38     Congo           76.0              1.0            9.0   \n",
       "50  DR Congo           32.0              3.0            1.0   \n",
       "\n",
       "    total_litres_of_pure_alcohol  \n",
       "38                        1.5222  \n",
       "50                        0.6372  "
      ]
     },
     "execution_count": 35,
     "metadata": {},
     "output_type": "execute_result"
    }
   ],
   "source": [
    "drinks[drinks.country.str.contains('congo', case=False)]"
   ]
  },
  {
   "cell_type": "markdown",
   "id": "f6c525a2",
   "metadata": {},
   "source": [
    "So fuzzymatcher got the wrong Congo for DR Congo, let's keep this in mind."
   ]
  },
  {
   "cell_type": "code",
   "execution_count": 36,
   "id": "1e72e72b",
   "metadata": {},
   "outputs": [
    {
     "data": {
      "text/html": [
       "<div>\n",
       "<style scoped>\n",
       "    .dataframe tbody tr th:only-of-type {\n",
       "        vertical-align: middle;\n",
       "    }\n",
       "\n",
       "    .dataframe tbody tr th {\n",
       "        vertical-align: top;\n",
       "    }\n",
       "\n",
       "    .dataframe thead th {\n",
       "        text-align: right;\n",
       "    }\n",
       "</style>\n",
       "<table border=\"1\" class=\"dataframe\">\n",
       "  <thead>\n",
       "    <tr style=\"text-align: right;\">\n",
       "      <th></th>\n",
       "      <th>country</th>\n",
       "      <th>beer_servings</th>\n",
       "      <th>spirit_servings</th>\n",
       "      <th>wine_servings</th>\n",
       "      <th>total_litres_of_pure_alcohol</th>\n",
       "    </tr>\n",
       "  </thead>\n",
       "  <tbody>\n",
       "    <tr>\n",
       "      <th>54</th>\n",
       "      <td>Equatorial Guinea</td>\n",
       "      <td>92.0</td>\n",
       "      <td>0.0</td>\n",
       "      <td>233.0</td>\n",
       "      <td>5.7525</td>\n",
       "    </tr>\n",
       "    <tr>\n",
       "      <th>69</th>\n",
       "      <td>Guinea</td>\n",
       "      <td>9.0</td>\n",
       "      <td>0.0</td>\n",
       "      <td>2.0</td>\n",
       "      <td>0.1947</td>\n",
       "    </tr>\n",
       "    <tr>\n",
       "      <th>70</th>\n",
       "      <td>Guinea-Bissau</td>\n",
       "      <td>28.0</td>\n",
       "      <td>31.0</td>\n",
       "      <td>21.0</td>\n",
       "      <td>1.4160</td>\n",
       "    </tr>\n",
       "    <tr>\n",
       "      <th>133</th>\n",
       "      <td>Papua New Guinea</td>\n",
       "      <td>44.0</td>\n",
       "      <td>39.0</td>\n",
       "      <td>1.0</td>\n",
       "      <td>1.4868</td>\n",
       "    </tr>\n",
       "  </tbody>\n",
       "</table>\n",
       "</div>"
      ],
      "text/plain": [
       "               country  beer_servings  spirit_servings  wine_servings  \\\n",
       "54   Equatorial Guinea           92.0              0.0          233.0   \n",
       "69              Guinea            9.0              0.0            2.0   \n",
       "70       Guinea-Bissau           28.0             31.0           21.0   \n",
       "133   Papua New Guinea           44.0             39.0            1.0   \n",
       "\n",
       "     total_litres_of_pure_alcohol  \n",
       "54                         5.7525  \n",
       "69                         0.1947  \n",
       "70                         1.4160  \n",
       "133                        1.4868  "
      ]
     },
     "execution_count": 36,
     "metadata": {},
     "output_type": "execute_result"
    }
   ],
   "source": [
    "drinks[drinks.country.str.contains('guinea', case=False)]"
   ]
  },
  {
   "cell_type": "markdown",
   "id": "e3fc7b43",
   "metadata": {},
   "source": [
    "So there are four Guineas. Luckily, we don't have to worry about the other three, because they match the life_exp1 table character for character (for the first 10 characters). In this case as well, fuzzymatcher got the wrong one, let's keep that in mind too."
   ]
  },
  {
   "cell_type": "markdown",
   "id": "774ecdfe",
   "metadata": {},
   "source": [
    "Now it's time to fix the errors. We already know the names we have to change in the drinks df, the previous line of code helps us to find country names in the life_exp1 df.\n",
    "\n",
    "Also we have to check if the missing countries are in the life_exp1 df, and if so, add them too."
   ]
  },
  {
   "cell_type": "code",
   "execution_count": 37,
   "id": "b9e505e4",
   "metadata": {},
   "outputs": [],
   "source": [
    "dict_country={\"South Korea\": \"Republic of Korea\", \"Guinea-Bissau\": \"Guinea_Bissau\",\n",
    "              \"United Kingdom\": \"United Kingdom of Great Britain and Northern Ireland\", \n",
    "              \"DR Congo\": \"Democratic Republic of the Congo'\", \"Laos\": \"Lao People's Democratic Republic\",\n",
    "              \"Syria\": \"Syrian Arab Republic\", \"Timor-Leste\": \"Timor_Leste\", \"USA\": \"United States of America\",\n",
    "              \"Vietnam\": \"Viet Nam\"}"
   ]
  },
  {
   "cell_type": "code",
   "execution_count": 38,
   "id": "3b83e28b",
   "metadata": {},
   "outputs": [],
   "source": [
    "drinks[\"country\"].replace(dict_country, inplace=True)"
   ]
  },
  {
   "cell_type": "code",
   "execution_count": 39,
   "id": "eb49ca01",
   "metadata": {},
   "outputs": [
    {
     "name": "stderr",
     "output_type": "stream",
     "text": [
      "/var/folders/n8/4qkbch054_dcrcnsw7khkv340000gn/T/ipykernel_7454/1180779859.py:8: SettingWithCopyWarning: \n",
      "A value is trying to be set on a copy of a slice from a DataFrame.\n",
      "Try using .loc[row_indexer,col_indexer] = value instead\n",
      "\n",
      "See the caveats in the documentation: https://pandas.pydata.org/pandas-docs/stable/user_guide/indexing.html#returning-a-view-versus-a-copy\n",
      "  country_all7['country_okay'] = 0\n",
      "/var/folders/n8/4qkbch054_dcrcnsw7khkv340000gn/T/ipykernel_7454/1180779859.py:12: SettingWithCopyWarning: \n",
      "A value is trying to be set on a copy of a slice from a DataFrame\n",
      "\n",
      "See the caveats in the documentation: https://pandas.pydata.org/pandas-docs/stable/user_guide/indexing.html#returning-a-view-versus-a-copy\n",
      "  country_all7['country_okay'].iloc[i] = 'okay'\n",
      "/var/folders/n8/4qkbch054_dcrcnsw7khkv340000gn/T/ipykernel_7454/1180779859.py:14: SettingWithCopyWarning: \n",
      "A value is trying to be set on a copy of a slice from a DataFrame\n",
      "\n",
      "See the caveats in the documentation: https://pandas.pydata.org/pandas-docs/stable/user_guide/indexing.html#returning-a-view-versus-a-copy\n",
      "  country_all7['country_okay'].iloc[i] = 'not okay'\n"
     ]
    }
   ],
   "source": [
    "# let's repeat the fuzzy match\n",
    "\n",
    "country_all6 = fuzzymatcher.fuzzy_left_join(drinks, life_exp1, ['country'], ['CountryDisplay'])\n",
    "country_all7 = country_all6[['country', 'CountryDisplay']]\n",
    "\n",
    "# let's check if fuzzy matching worked\n",
    "\n",
    "country_all7['country_okay'] = 0\n",
    "\n",
    "for i in range(len(country_all5)):\n",
    "    if (country_all7.iloc[i,0][0:10] == str(country_all7.iloc[i,1][0:10])):\n",
    "        country_all7['country_okay'].iloc[i] = 'okay'\n",
    "    else:\n",
    "        country_all7['country_okay'].iloc[i] = 'not okay'"
   ]
  },
  {
   "cell_type": "code",
   "execution_count": 40,
   "id": "738accd1",
   "metadata": {},
   "outputs": [
    {
     "data": {
      "text/html": [
       "<div>\n",
       "<style scoped>\n",
       "    .dataframe tbody tr th:only-of-type {\n",
       "        vertical-align: middle;\n",
       "    }\n",
       "\n",
       "    .dataframe tbody tr th {\n",
       "        vertical-align: top;\n",
       "    }\n",
       "\n",
       "    .dataframe thead th {\n",
       "        text-align: right;\n",
       "    }\n",
       "</style>\n",
       "<table border=\"1\" class=\"dataframe\">\n",
       "  <thead>\n",
       "    <tr style=\"text-align: right;\">\n",
       "      <th></th>\n",
       "      <th>country</th>\n",
       "      <th>CountryDisplay</th>\n",
       "      <th>country_okay</th>\n",
       "    </tr>\n",
       "  </thead>\n",
       "  <tbody>\n",
       "    <tr>\n",
       "      <th>12</th>\n",
       "      <td>Antigua &amp; Barbuda</td>\n",
       "      <td>Antigua and Barbuda</td>\n",
       "      <td>not okay</td>\n",
       "    </tr>\n",
       "    <tr>\n",
       "      <th>51</th>\n",
       "      <td>Bolivia</td>\n",
       "      <td>Bolivia (Plurinational State of)</td>\n",
       "      <td>not okay</td>\n",
       "    </tr>\n",
       "    <tr>\n",
       "      <th>54</th>\n",
       "      <td>Bosnia-Herzegovina</td>\n",
       "      <td>Bosnia and Herzegovina</td>\n",
       "      <td>not okay</td>\n",
       "    </tr>\n",
       "    <tr>\n",
       "      <th>63</th>\n",
       "      <td>Brunei</td>\n",
       "      <td>Brunei Darussalam</td>\n",
       "      <td>not okay</td>\n",
       "    </tr>\n",
       "    <tr>\n",
       "      <th>117</th>\n",
       "      <td>Cote d'Ivoire</td>\n",
       "      <td>Côte d'Ivoire</td>\n",
       "      <td>not okay</td>\n",
       "    </tr>\n",
       "    <tr>\n",
       "      <th>315</th>\n",
       "      <td>Moldova</td>\n",
       "      <td>Republic of Moldova</td>\n",
       "      <td>not okay</td>\n",
       "    </tr>\n",
       "    <tr>\n",
       "      <th>405</th>\n",
       "      <td>Sao Tome &amp; Principe</td>\n",
       "      <td>Sao Tome and Principe</td>\n",
       "      <td>not okay</td>\n",
       "    </tr>\n",
       "    <tr>\n",
       "      <th>450</th>\n",
       "      <td>St. Kitts &amp; Nevis</td>\n",
       "      <td>Saint Kitts and Nevis</td>\n",
       "      <td>not okay</td>\n",
       "    </tr>\n",
       "    <tr>\n",
       "      <th>453</th>\n",
       "      <td>St. Lucia</td>\n",
       "      <td>Saint Lucia</td>\n",
       "      <td>not okay</td>\n",
       "    </tr>\n",
       "    <tr>\n",
       "      <th>456</th>\n",
       "      <td>St. Vincent &amp; the Grenadines</td>\n",
       "      <td>Saint Vincent and the Grenadines</td>\n",
       "      <td>not okay</td>\n",
       "    </tr>\n",
       "    <tr>\n",
       "      <th>483</th>\n",
       "      <td>Tanzania</td>\n",
       "      <td>United Republic of Tanzania</td>\n",
       "      <td>not okay</td>\n",
       "    </tr>\n",
       "    <tr>\n",
       "      <th>498</th>\n",
       "      <td>Trinidad &amp; Tobago</td>\n",
       "      <td>Trinidad and Tobago</td>\n",
       "      <td>not okay</td>\n",
       "    </tr>\n",
       "  </tbody>\n",
       "</table>\n",
       "</div>"
      ],
      "text/plain": [
       "                          country                    CountryDisplay  \\\n",
       "12              Antigua & Barbuda               Antigua and Barbuda   \n",
       "51                        Bolivia  Bolivia (Plurinational State of)   \n",
       "54             Bosnia-Herzegovina            Bosnia and Herzegovina   \n",
       "63                         Brunei                 Brunei Darussalam   \n",
       "117                 Cote d'Ivoire                     Côte d'Ivoire   \n",
       "315                       Moldova               Republic of Moldova   \n",
       "405           Sao Tome & Principe             Sao Tome and Principe   \n",
       "450             St. Kitts & Nevis             Saint Kitts and Nevis   \n",
       "453                     St. Lucia                       Saint Lucia   \n",
       "456  St. Vincent & the Grenadines  Saint Vincent and the Grenadines   \n",
       "483                      Tanzania       United Republic of Tanzania   \n",
       "498             Trinidad & Tobago               Trinidad and Tobago   \n",
       "\n",
       "    country_okay  \n",
       "12      not okay  \n",
       "51      not okay  \n",
       "54      not okay  \n",
       "63      not okay  \n",
       "117     not okay  \n",
       "315     not okay  \n",
       "405     not okay  \n",
       "450     not okay  \n",
       "453     not okay  \n",
       "456     not okay  \n",
       "483     not okay  \n",
       "498     not okay  "
      ]
     },
     "execution_count": 40,
     "metadata": {},
     "output_type": "execute_result"
    }
   ],
   "source": [
    "country_all7[country_all7['country_okay'] == 'not okay']"
   ]
  },
  {
   "cell_type": "markdown",
   "id": "7d01d136",
   "metadata": {},
   "source": [
    "Looks perfect. Now let's create the merged df."
   ]
  },
  {
   "cell_type": "code",
   "execution_count": 41,
   "id": "14d5d084",
   "metadata": {},
   "outputs": [
    {
     "data": {
      "text/plain": [
       "Index(['best_match_score', '__id_left', '__id_right', 'country',\n",
       "       'beer_servings', 'spirit_servings', 'wine_servings',\n",
       "       'total_litres_of_pure_alcohol', 'GhoCode', 'GhoDisplay',\n",
       "       'PublishStateCode', 'PublishStateDisplay', 'YearCode', 'YearDisplay',\n",
       "       'RegionCode', 'RegionDisplay', 'WorldBankIncomeGroupGroupCode',\n",
       "       'WorldBankIncomeGroupDisplay', 'CountryCode', 'CountryDisplay',\n",
       "       'SexCode', 'SexDisplay', 'DisplayValue', 'Numeric'],\n",
       "      dtype='object')"
      ]
     },
     "execution_count": 41,
     "metadata": {},
     "output_type": "execute_result"
    }
   ],
   "source": [
    "country_all6.columns"
   ]
  },
  {
   "cell_type": "code",
   "execution_count": 42,
   "id": "a08ece9c",
   "metadata": {},
   "outputs": [],
   "source": [
    "# dropping the unnecessary columns\n",
    "\n",
    "df = country_all6.drop(['best_match_score', '__id_left', '__id_right', 'YearDisplay'], axis=1)"
   ]
  },
  {
   "cell_type": "code",
   "execution_count": 43,
   "id": "489651db",
   "metadata": {},
   "outputs": [
    {
     "data": {
      "text/plain": [
       "177"
      ]
     },
     "execution_count": 43,
     "metadata": {},
     "output_type": "execute_result"
    }
   ],
   "source": [
    "len(df)"
   ]
  },
  {
   "cell_type": "code",
   "execution_count": 44,
   "id": "8f5ce270",
   "metadata": {},
   "outputs": [
    {
     "data": {
      "text/plain": [
       "array(['Both sexes'], dtype=object)"
      ]
     },
     "execution_count": 44,
     "metadata": {},
     "output_type": "execute_result"
    }
   ],
   "source": [
    "df.SexDisplay.unique()"
   ]
  },
  {
   "cell_type": "code",
   "execution_count": 45,
   "id": "8a7c96f6",
   "metadata": {},
   "outputs": [
    {
     "data": {
      "text/plain": [
       "array(['Both sexes', 'Female', 'Male'], dtype=object)"
      ]
     },
     "execution_count": 45,
     "metadata": {},
     "output_type": "execute_result"
    }
   ],
   "source": [
    "life_exp1.SexDisplay.unique()"
   ]
  },
  {
   "cell_type": "markdown",
   "id": "ab58b6f8",
   "metadata": {},
   "source": [
    "Due to fuzzy matching, we lost the female and male values of life expectancy for each country. Let's get them back, just in case we want to use them later. Now that we have matching country names, we can join again to get them."
   ]
  },
  {
   "cell_type": "code",
   "execution_count": 46,
   "id": "051a1a55",
   "metadata": {},
   "outputs": [],
   "source": [
    "df['country'] = df['CountryDisplay']\n",
    "df.drop('CountryDisplay', axis=1, inplace=True)"
   ]
  },
  {
   "cell_type": "code",
   "execution_count": 47,
   "id": "f1642e7a",
   "metadata": {},
   "outputs": [],
   "source": [
    "df.drop(df.columns[5:], axis=1, inplace=True)"
   ]
  },
  {
   "cell_type": "code",
   "execution_count": 48,
   "id": "c4aeba9d",
   "metadata": {},
   "outputs": [],
   "source": [
    "df = df.merge(life_exp1, how='left', left_on='country', right_on='CountryDisplay')"
   ]
  },
  {
   "cell_type": "code",
   "execution_count": 49,
   "id": "79f7497b",
   "metadata": {},
   "outputs": [
    {
     "data": {
      "text/plain": [
       "531"
      ]
     },
     "execution_count": 49,
     "metadata": {},
     "output_type": "execute_result"
    }
   ],
   "source": [
    "len(df)"
   ]
  },
  {
   "cell_type": "code",
   "execution_count": 50,
   "id": "4d34c49b",
   "metadata": {},
   "outputs": [
    {
     "data": {
      "text/plain": [
       "582"
      ]
     },
     "execution_count": 50,
     "metadata": {},
     "output_type": "execute_result"
    }
   ],
   "source": [
    "len(life_exp1)"
   ]
  },
  {
   "cell_type": "markdown",
   "id": "badee790",
   "metadata": {},
   "source": [
    "It looks like there is a difference, but we dropped some countries from the drinks df."
   ]
  },
  {
   "cell_type": "code",
   "execution_count": 51,
   "id": "8e94c29a",
   "metadata": {},
   "outputs": [],
   "source": [
    "drinks_2 = pd.read_csv(\"Drinks.csv\")"
   ]
  },
  {
   "cell_type": "code",
   "execution_count": 52,
   "id": "8a313d10",
   "metadata": {},
   "outputs": [
    {
     "data": {
      "text/plain": [
       "16"
      ]
     },
     "execution_count": 52,
     "metadata": {},
     "output_type": "execute_result"
    }
   ],
   "source": [
    "len(drinks_2) - len(drinks)"
   ]
  },
  {
   "cell_type": "markdown",
   "id": "7fa2ce0c",
   "metadata": {},
   "source": [
    "We dropped 16 countries. Now let's check if the life_exp df had the same amount of countries as the drinks df."
   ]
  },
  {
   "cell_type": "code",
   "execution_count": 53,
   "id": "56fe45b5",
   "metadata": {},
   "outputs": [
    {
     "data": {
      "text/plain": [
       "1"
      ]
     },
     "execution_count": 53,
     "metadata": {},
     "output_type": "execute_result"
    }
   ],
   "source": [
    "len(life_exp.CountryDisplay.unique()) - len(drinks_2)"
   ]
  },
  {
   "cell_type": "code",
   "execution_count": 54,
   "id": "d6bb9536",
   "metadata": {},
   "outputs": [
    {
     "data": {
      "text/plain": [
       "0"
      ]
     },
     "execution_count": 54,
     "metadata": {},
     "output_type": "execute_result"
    }
   ],
   "source": [
    "len(life_exp1) - len(df) - (len(drinks_2) - len(drinks) + 1)*3"
   ]
  },
  {
   "cell_type": "markdown",
   "id": "30b26f75",
   "metadata": {},
   "source": [
    "There was an extra country, we dropped 2/3 of the rows earlier, so the difference checks out."
   ]
  },
  {
   "cell_type": "markdown",
   "id": "f7e39734",
   "metadata": {},
   "source": [
    "## Calculate correlation between expected lifetime and total liters of pure alcohol"
   ]
  },
  {
   "cell_type": "code",
   "execution_count": 55,
   "id": "035a5335",
   "metadata": {},
   "outputs": [],
   "source": [
    "# Let's check 'Life expectancy at birth (years)' for both sexes\n",
    "\n",
    "df_corr = df[df['SexDisplay'] == 'Both sexes']"
   ]
  },
  {
   "cell_type": "code",
   "execution_count": 56,
   "id": "2aa7915a",
   "metadata": {},
   "outputs": [
    {
     "data": {
      "text/plain": [
       "0.56"
      ]
     },
     "execution_count": 56,
     "metadata": {},
     "output_type": "execute_result"
    }
   ],
   "source": [
    "df_corr['total_litres_of_pure_alcohol'].corr(df_corr['Numeric']).round(2)"
   ]
  },
  {
   "cell_type": "markdown",
   "id": "17529832",
   "metadata": {},
   "source": [
    "It looks like there is a positive correlation between the pure alcohol consumed per year and the life expectancy at birth, meaning that for every liter of pure alcohol consumed, we can expect the life expectancy to be higher by about half a year (on average).\n"
   ]
  },
  {
   "cell_type": "markdown",
   "id": "761a0409",
   "metadata": {},
   "source": [
    "## Read and prepare CountriesOfTheWorld.xlsx"
   ]
  },
  {
   "cell_type": "code",
   "execution_count": 57,
   "id": "e79a2f6c",
   "metadata": {},
   "outputs": [
    {
     "data": {
      "text/html": [
       "<div>\n",
       "<style scoped>\n",
       "    .dataframe tbody tr th:only-of-type {\n",
       "        vertical-align: middle;\n",
       "    }\n",
       "\n",
       "    .dataframe tbody tr th {\n",
       "        vertical-align: top;\n",
       "    }\n",
       "\n",
       "    .dataframe thead th {\n",
       "        text-align: right;\n",
       "    }\n",
       "</style>\n",
       "<table border=\"1\" class=\"dataframe\">\n",
       "  <thead>\n",
       "    <tr style=\"text-align: right;\">\n",
       "      <th></th>\n",
       "      <th>Unnamed: 0</th>\n",
       "      <th>Unnamed: 1</th>\n",
       "      <th>Unnamed: 2</th>\n",
       "      <th>Unnamed: 3</th>\n",
       "      <th>Unnamed: 4</th>\n",
       "      <th>Unnamed: 5</th>\n",
       "      <th>Unnamed: 6</th>\n",
       "      <th>Unnamed: 7</th>\n",
       "      <th>Unnamed: 8</th>\n",
       "      <th>Unnamed: 9</th>\n",
       "      <th>Unnamed: 10</th>\n",
       "      <th>Unnamed: 11</th>\n",
       "      <th>Unnamed: 12</th>\n",
       "      <th>Unnamed: 13</th>\n",
       "      <th>Unnamed: 14</th>\n",
       "      <th>Unnamed: 15</th>\n",
       "    </tr>\n",
       "  </thead>\n",
       "  <tbody>\n",
       "    <tr>\n",
       "      <th>0</th>\n",
       "      <td>Country</td>\n",
       "      <td>Region</td>\n",
       "      <td>Population</td>\n",
       "      <td>Area</td>\n",
       "      <td>Pop. Density</td>\n",
       "      <td>Coastline</td>\n",
       "      <td>Net migration</td>\n",
       "      <td>Infant mortality</td>\n",
       "      <td>GDP</td>\n",
       "      <td>Literacy</td>\n",
       "      <td>Phones</td>\n",
       "      <td>Arable</td>\n",
       "      <td>Crops</td>\n",
       "      <td>Other</td>\n",
       "      <td>Birthrate</td>\n",
       "      <td>Deathrate</td>\n",
       "    </tr>\n",
       "    <tr>\n",
       "      <th>1</th>\n",
       "      <td>NaN</td>\n",
       "      <td>NaN</td>\n",
       "      <td>NaN</td>\n",
       "      <td>sq. mi.</td>\n",
       "      <td>per sq. mi.</td>\n",
       "      <td>coast/area ratio</td>\n",
       "      <td>NaN</td>\n",
       "      <td>per 1000 births</td>\n",
       "      <td>$ per capita</td>\n",
       "      <td>%</td>\n",
       "      <td>per 1000</td>\n",
       "      <td>%</td>\n",
       "      <td>%</td>\n",
       "      <td>%</td>\n",
       "      <td>NaN</td>\n",
       "      <td>NaN</td>\n",
       "    </tr>\n",
       "    <tr>\n",
       "      <th>2</th>\n",
       "      <td>Afghanistan</td>\n",
       "      <td>ASIA (EX. NEAR EAST)</td>\n",
       "      <td>31056997</td>\n",
       "      <td>647500</td>\n",
       "      <td>47.96</td>\n",
       "      <td>0</td>\n",
       "      <td>23.06</td>\n",
       "      <td>163.07</td>\n",
       "      <td>700</td>\n",
       "      <td>36</td>\n",
       "      <td>3.22</td>\n",
       "      <td>12.13</td>\n",
       "      <td>0.22</td>\n",
       "      <td>87.65</td>\n",
       "      <td>46.6</td>\n",
       "      <td>20.34</td>\n",
       "    </tr>\n",
       "    <tr>\n",
       "      <th>3</th>\n",
       "      <td>Albania</td>\n",
       "      <td>EASTERN EUROPE</td>\n",
       "      <td>3581655</td>\n",
       "      <td>28748</td>\n",
       "      <td>124.59</td>\n",
       "      <td>1.26</td>\n",
       "      <td>-4.93</td>\n",
       "      <td>21.52</td>\n",
       "      <td>4500</td>\n",
       "      <td>86.5</td>\n",
       "      <td>71.2</td>\n",
       "      <td>21.09</td>\n",
       "      <td>4.42</td>\n",
       "      <td>74.49</td>\n",
       "      <td>15.11</td>\n",
       "      <td>5.22</td>\n",
       "    </tr>\n",
       "    <tr>\n",
       "      <th>4</th>\n",
       "      <td>Algeria</td>\n",
       "      <td>NORTHERN AFRICA</td>\n",
       "      <td>32930091</td>\n",
       "      <td>2381740</td>\n",
       "      <td>13.83</td>\n",
       "      <td>0.04</td>\n",
       "      <td>-0.39</td>\n",
       "      <td>31</td>\n",
       "      <td>6000</td>\n",
       "      <td>70</td>\n",
       "      <td>78.1</td>\n",
       "      <td>3.22</td>\n",
       "      <td>0.25</td>\n",
       "      <td>96.53</td>\n",
       "      <td>17.14</td>\n",
       "      <td>4.61</td>\n",
       "    </tr>\n",
       "  </tbody>\n",
       "</table>\n",
       "</div>"
      ],
      "text/plain": [
       "     Unnamed: 0                           Unnamed: 1  Unnamed: 2 Unnamed: 3  \\\n",
       "0       Country                               Region  Population       Area   \n",
       "1           NaN                                  NaN         NaN    sq. mi.   \n",
       "2  Afghanistan         ASIA (EX. NEAR EAST)             31056997     647500   \n",
       "3      Albania   EASTERN EUROPE                          3581655      28748   \n",
       "4      Algeria   NORTHERN AFRICA                        32930091    2381740   \n",
       "\n",
       "     Unnamed: 4        Unnamed: 5     Unnamed: 6        Unnamed: 7  \\\n",
       "0  Pop. Density         Coastline  Net migration  Infant mortality   \n",
       "1   per sq. mi.  coast/area ratio            NaN   per 1000 births   \n",
       "2         47.96                 0          23.06            163.07   \n",
       "3        124.59              1.26          -4.93             21.52   \n",
       "4         13.83              0.04          -0.39                31   \n",
       "\n",
       "     Unnamed: 8 Unnamed: 9 Unnamed: 10 Unnamed: 11 Unnamed: 12 Unnamed: 13  \\\n",
       "0           GDP   Literacy      Phones      Arable       Crops       Other   \n",
       "1  $ per capita          %    per 1000           %           %           %   \n",
       "2           700         36        3.22       12.13        0.22       87.65   \n",
       "3          4500       86.5        71.2       21.09        4.42       74.49   \n",
       "4          6000         70        78.1        3.22        0.25       96.53   \n",
       "\n",
       "  Unnamed: 14 Unnamed: 15  \n",
       "0   Birthrate   Deathrate  \n",
       "1         NaN         NaN  \n",
       "2        46.6       20.34  \n",
       "3       15.11        5.22  \n",
       "4       17.14        4.61  "
      ]
     },
     "execution_count": 57,
     "metadata": {},
     "output_type": "execute_result"
    }
   ],
   "source": [
    "countries_df = pd.read_excel('CountriesOfTheWorld.xls', skiprows=2)\n",
    "countries_df.head()"
   ]
  },
  {
   "cell_type": "code",
   "execution_count": 58,
   "id": "79aa21e6",
   "metadata": {},
   "outputs": [],
   "source": [
    "countries_df.iloc[0,[3,4,5,7,8,9,10,11,12,13]] = countries_df.iloc[0,[3,4,5,7,8,9,10,11,12,13]] + countries_df.iloc[1,[3,4,5,7,8,9,10,11,12,13]]"
   ]
  },
  {
   "cell_type": "code",
   "execution_count": 59,
   "id": "3144d01d",
   "metadata": {},
   "outputs": [],
   "source": [
    "countries_df.columns = countries_df.iloc[0,]\n",
    "countries_df.drop([0,1], inplace=True)\n",
    "countries_df.reset_index(drop=True, inplace=True)\n",
    "countries_df['Country'] = countries_df['Country'].str.strip()"
   ]
  },
  {
   "cell_type": "code",
   "execution_count": 60,
   "id": "a91f6b59",
   "metadata": {},
   "outputs": [
    {
     "data": {
      "text/html": [
       "<div>\n",
       "<style scoped>\n",
       "    .dataframe tbody tr th:only-of-type {\n",
       "        vertical-align: middle;\n",
       "    }\n",
       "\n",
       "    .dataframe tbody tr th {\n",
       "        vertical-align: top;\n",
       "    }\n",
       "\n",
       "    .dataframe thead th {\n",
       "        text-align: right;\n",
       "    }\n",
       "</style>\n",
       "<table border=\"1\" class=\"dataframe\">\n",
       "  <thead>\n",
       "    <tr style=\"text-align: right;\">\n",
       "      <th></th>\n",
       "      <th>Country</th>\n",
       "      <th>Region</th>\n",
       "      <th>Population</th>\n",
       "      <th>Areasq. mi.</th>\n",
       "      <th>Pop. Densityper sq. mi.</th>\n",
       "      <th>Coastlinecoast/area ratio</th>\n",
       "      <th>Net migration</th>\n",
       "      <th>Infant mortalityper 1000 births</th>\n",
       "      <th>GDP$ per capita</th>\n",
       "      <th>Literacy%</th>\n",
       "      <th>Phonesper 1000</th>\n",
       "      <th>Arable%</th>\n",
       "      <th>Crops%</th>\n",
       "      <th>Other%</th>\n",
       "      <th>Birthrate</th>\n",
       "      <th>Deathrate</th>\n",
       "    </tr>\n",
       "  </thead>\n",
       "  <tbody>\n",
       "    <tr>\n",
       "      <th>0</th>\n",
       "      <td>Afghanistan</td>\n",
       "      <td>ASIA (EX. NEAR EAST)</td>\n",
       "      <td>31056997</td>\n",
       "      <td>647500</td>\n",
       "      <td>47.96</td>\n",
       "      <td>0</td>\n",
       "      <td>23.06</td>\n",
       "      <td>163.07</td>\n",
       "      <td>700</td>\n",
       "      <td>36</td>\n",
       "      <td>3.22</td>\n",
       "      <td>12.13</td>\n",
       "      <td>0.22</td>\n",
       "      <td>87.65</td>\n",
       "      <td>46.6</td>\n",
       "      <td>20.34</td>\n",
       "    </tr>\n",
       "    <tr>\n",
       "      <th>1</th>\n",
       "      <td>Albania</td>\n",
       "      <td>EASTERN EUROPE</td>\n",
       "      <td>3581655</td>\n",
       "      <td>28748</td>\n",
       "      <td>124.59</td>\n",
       "      <td>1.26</td>\n",
       "      <td>-4.93</td>\n",
       "      <td>21.52</td>\n",
       "      <td>4500</td>\n",
       "      <td>86.5</td>\n",
       "      <td>71.2</td>\n",
       "      <td>21.09</td>\n",
       "      <td>4.42</td>\n",
       "      <td>74.49</td>\n",
       "      <td>15.11</td>\n",
       "      <td>5.22</td>\n",
       "    </tr>\n",
       "    <tr>\n",
       "      <th>2</th>\n",
       "      <td>Algeria</td>\n",
       "      <td>NORTHERN AFRICA</td>\n",
       "      <td>32930091</td>\n",
       "      <td>2381740</td>\n",
       "      <td>13.83</td>\n",
       "      <td>0.04</td>\n",
       "      <td>-0.39</td>\n",
       "      <td>31</td>\n",
       "      <td>6000</td>\n",
       "      <td>70</td>\n",
       "      <td>78.1</td>\n",
       "      <td>3.22</td>\n",
       "      <td>0.25</td>\n",
       "      <td>96.53</td>\n",
       "      <td>17.14</td>\n",
       "      <td>4.61</td>\n",
       "    </tr>\n",
       "    <tr>\n",
       "      <th>3</th>\n",
       "      <td>American Samoa</td>\n",
       "      <td>OCEANIA</td>\n",
       "      <td>57794</td>\n",
       "      <td>199</td>\n",
       "      <td>290.42</td>\n",
       "      <td>58.29</td>\n",
       "      <td>-20.71</td>\n",
       "      <td>9.27</td>\n",
       "      <td>8000</td>\n",
       "      <td>97</td>\n",
       "      <td>259.54</td>\n",
       "      <td>10</td>\n",
       "      <td>15</td>\n",
       "      <td>75</td>\n",
       "      <td>22.46</td>\n",
       "      <td>3.27</td>\n",
       "    </tr>\n",
       "    <tr>\n",
       "      <th>4</th>\n",
       "      <td>Andorra</td>\n",
       "      <td>WESTERN EUROPE</td>\n",
       "      <td>71201</td>\n",
       "      <td>468</td>\n",
       "      <td>152.14</td>\n",
       "      <td>0</td>\n",
       "      <td>6.6</td>\n",
       "      <td>4.05</td>\n",
       "      <td>19000</td>\n",
       "      <td>100</td>\n",
       "      <td>497.18</td>\n",
       "      <td>2.22</td>\n",
       "      <td>0</td>\n",
       "      <td>97.78</td>\n",
       "      <td>8.71</td>\n",
       "      <td>6.25</td>\n",
       "    </tr>\n",
       "  </tbody>\n",
       "</table>\n",
       "</div>"
      ],
      "text/plain": [
       "0         Country                               Region Population Areasq. mi.  \\\n",
       "0     Afghanistan        ASIA (EX. NEAR EAST)            31056997      647500   \n",
       "1         Albania  EASTERN EUROPE                         3581655       28748   \n",
       "2         Algeria  NORTHERN AFRICA                       32930091     2381740   \n",
       "3  American Samoa  OCEANIA                                  57794         199   \n",
       "4         Andorra  WESTERN EUROPE                           71201         468   \n",
       "\n",
       "0 Pop. Densityper sq. mi. Coastlinecoast/area ratio Net migration  \\\n",
       "0                   47.96                         0         23.06   \n",
       "1                  124.59                      1.26         -4.93   \n",
       "2                   13.83                      0.04         -0.39   \n",
       "3                  290.42                     58.29        -20.71   \n",
       "4                  152.14                         0           6.6   \n",
       "\n",
       "0 Infant mortalityper 1000 births GDP$ per capita Literacy% Phonesper 1000  \\\n",
       "0                          163.07             700        36           3.22   \n",
       "1                           21.52            4500      86.5           71.2   \n",
       "2                              31            6000        70           78.1   \n",
       "3                            9.27            8000        97         259.54   \n",
       "4                            4.05           19000       100         497.18   \n",
       "\n",
       "0 Arable% Crops% Other% Birthrate Deathrate  \n",
       "0   12.13   0.22  87.65      46.6     20.34  \n",
       "1   21.09   4.42  74.49     15.11      5.22  \n",
       "2    3.22   0.25  96.53     17.14      4.61  \n",
       "3      10     15     75     22.46      3.27  \n",
       "4    2.22      0  97.78      8.71      6.25  "
      ]
     },
     "execution_count": 60,
     "metadata": {},
     "output_type": "execute_result"
    }
   ],
   "source": [
    "countries_df.head()"
   ]
  },
  {
   "cell_type": "code",
   "execution_count": 61,
   "id": "e346af64",
   "metadata": {},
   "outputs": [
    {
     "data": {
      "text/plain": [
       "0\n",
       "Country                            object\n",
       "Region                             object\n",
       "Population                         object\n",
       "Areasq. mi.                        object\n",
       "Pop. Densityper sq. mi.            object\n",
       "Coastlinecoast/area ratio          object\n",
       "Net migration                      object\n",
       "Infant mortalityper 1000 births    object\n",
       "GDP$ per capita                    object\n",
       "Literacy%                          object\n",
       "Phonesper 1000                     object\n",
       "Arable%                            object\n",
       "Crops%                             object\n",
       "Other%                             object\n",
       "Birthrate                          object\n",
       "Deathrate                          object\n",
       "dtype: object"
      ]
     },
     "execution_count": 61,
     "metadata": {},
     "output_type": "execute_result"
    }
   ],
   "source": [
    "countries_df.dtypes"
   ]
  },
  {
   "cell_type": "code",
   "execution_count": 62,
   "id": "397bb384",
   "metadata": {},
   "outputs": [],
   "source": [
    "cols = countries_df.columns.drop(['Country', 'Region'])\n",
    "\n",
    "# transforming columns to numeric\n",
    "countries_df[cols] = countries_df[cols].apply(pd.to_numeric, errors='coerce')"
   ]
  },
  {
   "cell_type": "code",
   "execution_count": 63,
   "id": "4f868fac",
   "metadata": {},
   "outputs": [
    {
     "data": {
      "text/html": [
       "<div>\n",
       "<style scoped>\n",
       "    .dataframe tbody tr th:only-of-type {\n",
       "        vertical-align: middle;\n",
       "    }\n",
       "\n",
       "    .dataframe tbody tr th {\n",
       "        vertical-align: top;\n",
       "    }\n",
       "\n",
       "    .dataframe thead th {\n",
       "        text-align: right;\n",
       "    }\n",
       "</style>\n",
       "<table border=\"1\" class=\"dataframe\">\n",
       "  <thead>\n",
       "    <tr style=\"text-align: right;\">\n",
       "      <th></th>\n",
       "      <th>Population</th>\n",
       "      <th>Areasq. mi.</th>\n",
       "      <th>Pop. Densityper sq. mi.</th>\n",
       "      <th>Coastlinecoast/area ratio</th>\n",
       "      <th>Net migration</th>\n",
       "      <th>Infant mortalityper 1000 births</th>\n",
       "      <th>GDP$ per capita</th>\n",
       "      <th>Literacy%</th>\n",
       "      <th>Phonesper 1000</th>\n",
       "      <th>Arable%</th>\n",
       "      <th>Crops%</th>\n",
       "      <th>Other%</th>\n",
       "      <th>Birthrate</th>\n",
       "      <th>Deathrate</th>\n",
       "    </tr>\n",
       "  </thead>\n",
       "  <tbody>\n",
       "    <tr>\n",
       "      <th>count</th>\n",
       "      <td>2.270000e+02</td>\n",
       "      <td>2.270000e+02</td>\n",
       "      <td>227.000000</td>\n",
       "      <td>227.000000</td>\n",
       "      <td>224.000000</td>\n",
       "      <td>224.000000</td>\n",
       "      <td>226.000000</td>\n",
       "      <td>209.000000</td>\n",
       "      <td>223.000000</td>\n",
       "      <td>225.000000</td>\n",
       "      <td>225.000000</td>\n",
       "      <td>225.000000</td>\n",
       "      <td>224.000000</td>\n",
       "      <td>223.000000</td>\n",
       "    </tr>\n",
       "    <tr>\n",
       "      <th>mean</th>\n",
       "      <td>2.874028e+07</td>\n",
       "      <td>5.982270e+05</td>\n",
       "      <td>379.042511</td>\n",
       "      <td>21.165330</td>\n",
       "      <td>0.038125</td>\n",
       "      <td>35.506964</td>\n",
       "      <td>9689.823009</td>\n",
       "      <td>82.838278</td>\n",
       "      <td>236.057668</td>\n",
       "      <td>13.797111</td>\n",
       "      <td>4.564222</td>\n",
       "      <td>81.638311</td>\n",
       "      <td>22.114732</td>\n",
       "      <td>9.241345</td>\n",
       "    </tr>\n",
       "    <tr>\n",
       "      <th>std</th>\n",
       "      <td>1.178913e+08</td>\n",
       "      <td>1.790282e+06</td>\n",
       "      <td>1660.187541</td>\n",
       "      <td>72.286863</td>\n",
       "      <td>4.889269</td>\n",
       "      <td>35.389899</td>\n",
       "      <td>10049.138513</td>\n",
       "      <td>19.722173</td>\n",
       "      <td>227.992091</td>\n",
       "      <td>13.040402</td>\n",
       "      <td>8.361470</td>\n",
       "      <td>16.140835</td>\n",
       "      <td>11.176716</td>\n",
       "      <td>4.990026</td>\n",
       "    </tr>\n",
       "    <tr>\n",
       "      <th>min</th>\n",
       "      <td>7.026000e+03</td>\n",
       "      <td>2.000000e+00</td>\n",
       "      <td>0.030000</td>\n",
       "      <td>0.000000</td>\n",
       "      <td>-20.990000</td>\n",
       "      <td>2.290000</td>\n",
       "      <td>500.000000</td>\n",
       "      <td>17.600000</td>\n",
       "      <td>0.170000</td>\n",
       "      <td>0.000000</td>\n",
       "      <td>0.000000</td>\n",
       "      <td>33.330000</td>\n",
       "      <td>7.290000</td>\n",
       "      <td>2.290000</td>\n",
       "    </tr>\n",
       "    <tr>\n",
       "      <th>25%</th>\n",
       "      <td>4.376240e+05</td>\n",
       "      <td>4.647500e+03</td>\n",
       "      <td>29.155000</td>\n",
       "      <td>0.100000</td>\n",
       "      <td>-0.927500</td>\n",
       "      <td>8.150000</td>\n",
       "      <td>1900.000000</td>\n",
       "      <td>70.600000</td>\n",
       "      <td>37.810000</td>\n",
       "      <td>3.220000</td>\n",
       "      <td>0.190000</td>\n",
       "      <td>71.650000</td>\n",
       "      <td>12.672500</td>\n",
       "      <td>5.910000</td>\n",
       "    </tr>\n",
       "    <tr>\n",
       "      <th>50%</th>\n",
       "      <td>4.786994e+06</td>\n",
       "      <td>8.660000e+04</td>\n",
       "      <td>78.770000</td>\n",
       "      <td>0.730000</td>\n",
       "      <td>0.000000</td>\n",
       "      <td>21.000000</td>\n",
       "      <td>5550.000000</td>\n",
       "      <td>92.500000</td>\n",
       "      <td>176.150000</td>\n",
       "      <td>10.420000</td>\n",
       "      <td>1.030000</td>\n",
       "      <td>85.700000</td>\n",
       "      <td>18.790000</td>\n",
       "      <td>7.840000</td>\n",
       "    </tr>\n",
       "    <tr>\n",
       "      <th>75%</th>\n",
       "      <td>1.749777e+07</td>\n",
       "      <td>4.418110e+05</td>\n",
       "      <td>190.110000</td>\n",
       "      <td>10.345000</td>\n",
       "      <td>0.997500</td>\n",
       "      <td>55.705000</td>\n",
       "      <td>15700.000000</td>\n",
       "      <td>98.000000</td>\n",
       "      <td>389.630000</td>\n",
       "      <td>20.000000</td>\n",
       "      <td>4.440000</td>\n",
       "      <td>95.440000</td>\n",
       "      <td>29.820000</td>\n",
       "      <td>10.605000</td>\n",
       "    </tr>\n",
       "    <tr>\n",
       "      <th>max</th>\n",
       "      <td>1.313974e+09</td>\n",
       "      <td>1.707520e+07</td>\n",
       "      <td>16271.500000</td>\n",
       "      <td>870.660000</td>\n",
       "      <td>23.060000</td>\n",
       "      <td>191.190000</td>\n",
       "      <td>55100.000000</td>\n",
       "      <td>100.000000</td>\n",
       "      <td>1035.550000</td>\n",
       "      <td>62.110000</td>\n",
       "      <td>50.680000</td>\n",
       "      <td>100.000000</td>\n",
       "      <td>50.730000</td>\n",
       "      <td>29.740000</td>\n",
       "    </tr>\n",
       "  </tbody>\n",
       "</table>\n",
       "</div>"
      ],
      "text/plain": [
       "0        Population   Areasq. mi.  Pop. Densityper sq. mi.  \\\n",
       "count  2.270000e+02  2.270000e+02               227.000000   \n",
       "mean   2.874028e+07  5.982270e+05               379.042511   \n",
       "std    1.178913e+08  1.790282e+06              1660.187541   \n",
       "min    7.026000e+03  2.000000e+00                 0.030000   \n",
       "25%    4.376240e+05  4.647500e+03                29.155000   \n",
       "50%    4.786994e+06  8.660000e+04                78.770000   \n",
       "75%    1.749777e+07  4.418110e+05               190.110000   \n",
       "max    1.313974e+09  1.707520e+07             16271.500000   \n",
       "\n",
       "0      Coastlinecoast/area ratio  Net migration  \\\n",
       "count                 227.000000     224.000000   \n",
       "mean                   21.165330       0.038125   \n",
       "std                    72.286863       4.889269   \n",
       "min                     0.000000     -20.990000   \n",
       "25%                     0.100000      -0.927500   \n",
       "50%                     0.730000       0.000000   \n",
       "75%                    10.345000       0.997500   \n",
       "max                   870.660000      23.060000   \n",
       "\n",
       "0      Infant mortalityper 1000 births  GDP$ per capita   Literacy%  \\\n",
       "count                       224.000000       226.000000  209.000000   \n",
       "mean                         35.506964      9689.823009   82.838278   \n",
       "std                          35.389899     10049.138513   19.722173   \n",
       "min                           2.290000       500.000000   17.600000   \n",
       "25%                           8.150000      1900.000000   70.600000   \n",
       "50%                          21.000000      5550.000000   92.500000   \n",
       "75%                          55.705000     15700.000000   98.000000   \n",
       "max                         191.190000     55100.000000  100.000000   \n",
       "\n",
       "0      Phonesper 1000     Arable%      Crops%      Other%   Birthrate  \\\n",
       "count      223.000000  225.000000  225.000000  225.000000  224.000000   \n",
       "mean       236.057668   13.797111    4.564222   81.638311   22.114732   \n",
       "std        227.992091   13.040402    8.361470   16.140835   11.176716   \n",
       "min          0.170000    0.000000    0.000000   33.330000    7.290000   \n",
       "25%         37.810000    3.220000    0.190000   71.650000   12.672500   \n",
       "50%        176.150000   10.420000    1.030000   85.700000   18.790000   \n",
       "75%        389.630000   20.000000    4.440000   95.440000   29.820000   \n",
       "max       1035.550000   62.110000   50.680000  100.000000   50.730000   \n",
       "\n",
       "0       Deathrate  \n",
       "count  223.000000  \n",
       "mean     9.241345  \n",
       "std      4.990026  \n",
       "min      2.290000  \n",
       "25%      5.910000  \n",
       "50%      7.840000  \n",
       "75%     10.605000  \n",
       "max     29.740000  "
      ]
     },
     "execution_count": 63,
     "metadata": {},
     "output_type": "execute_result"
    }
   ],
   "source": [
    "countries_df.describe()"
   ]
  },
  {
   "cell_type": "markdown",
   "id": "95cc5764",
   "metadata": {},
   "source": [
    "## Merge countries of the world data and the previously prepared data (containing total liters of pure alcohol and expected lifetime)"
   ]
  },
  {
   "cell_type": "code",
   "execution_count": 64,
   "id": "09f24141",
   "metadata": {},
   "outputs": [
    {
     "data": {
      "text/plain": [
       "227"
      ]
     },
     "execution_count": 64,
     "metadata": {},
     "output_type": "execute_result"
    }
   ],
   "source": [
    "len(countries_df)"
   ]
  },
  {
   "cell_type": "markdown",
   "id": "3a222297",
   "metadata": {},
   "source": [
    "I decided to merge the world data with the df, that has the life expectancy for females and males as well, so each country has 3 values."
   ]
  },
  {
   "cell_type": "code",
   "execution_count": 65,
   "id": "1883ea30",
   "metadata": {},
   "outputs": [],
   "source": [
    "country_all8 = fuzzymatcher.fuzzy_left_join(df, countries_df, ['country'], ['Country'])"
   ]
  },
  {
   "cell_type": "code",
   "execution_count": 66,
   "id": "ef90c332",
   "metadata": {},
   "outputs": [
    {
     "data": {
      "text/plain": [
       "Index(['best_match_score', '__id_left', '__id_right', 'country',\n",
       "       'beer_servings', 'spirit_servings', 'wine_servings',\n",
       "       'total_litres_of_pure_alcohol', 'GhoCode', 'GhoDisplay',\n",
       "       'PublishStateCode', 'PublishStateDisplay', 'YearCode', 'YearDisplay',\n",
       "       'RegionCode', 'RegionDisplay', 'WorldBankIncomeGroupGroupCode',\n",
       "       'WorldBankIncomeGroupDisplay', 'CountryCode', 'CountryDisplay',\n",
       "       'SexCode', 'SexDisplay', 'DisplayValue', 'Numeric', 'Country', 'Region',\n",
       "       'Population', 'Areasq. mi.', 'Pop. Densityper sq. mi.',\n",
       "       'Coastlinecoast/area ratio', 'Net migration',\n",
       "       'Infant mortalityper 1000 births', 'GDP$ per capita', 'Literacy%',\n",
       "       'Phonesper 1000', 'Arable%', 'Crops%', 'Other%', 'Birthrate',\n",
       "       'Deathrate'],\n",
       "      dtype='object')"
      ]
     },
     "execution_count": 66,
     "metadata": {},
     "output_type": "execute_result"
    }
   ],
   "source": [
    "country_all8.columns"
   ]
  },
  {
   "cell_type": "code",
   "execution_count": 67,
   "id": "58037192",
   "metadata": {},
   "outputs": [],
   "source": [
    "country_all9=country_all8[['country', 'Country']]"
   ]
  },
  {
   "cell_type": "code",
   "execution_count": 68,
   "id": "7b025cd5",
   "metadata": {},
   "outputs": [
    {
     "data": {
      "text/plain": [
       "array(['Guinea_Bissau', 'Montenegro', 'Myanmar', 'Russian Federation',\n",
       "       'Timor_Leste', 'Viet Nam'], dtype=object)"
      ]
     },
     "execution_count": 68,
     "metadata": {},
     "output_type": "execute_result"
    }
   ],
   "source": [
    "# again let's check for missing values\n",
    "\n",
    "country_tocheck = country_all9[country_all9['Country'].isna()]\n",
    "country_tocheck.country.unique()"
   ]
  },
  {
   "cell_type": "code",
   "execution_count": 69,
   "id": "1988530a",
   "metadata": {},
   "outputs": [],
   "source": [
    "country_all9 = country_all9[country_all9['Country'].notna()]"
   ]
  },
  {
   "cell_type": "code",
   "execution_count": 70,
   "id": "92f8f4ca",
   "metadata": {},
   "outputs": [
    {
     "name": "stderr",
     "output_type": "stream",
     "text": [
      "/var/folders/n8/4qkbch054_dcrcnsw7khkv340000gn/T/ipykernel_7454/2557796553.py:7: SettingWithCopyWarning: \n",
      "A value is trying to be set on a copy of a slice from a DataFrame\n",
      "\n",
      "See the caveats in the documentation: https://pandas.pydata.org/pandas-docs/stable/user_guide/indexing.html#returning-a-view-versus-a-copy\n",
      "  country_all9['country_okay'].iloc[i] = 'okay'\n"
     ]
    }
   ],
   "source": [
    "# let's check if fuzzy matching worked\n",
    "\n",
    "country_all9['country_okay'] = 0\n",
    "\n",
    "for i in range(len(country_all9)):\n",
    "    if (country_all9.iloc[i,0][0:10] == str(country_all9.iloc[i,1][0:10])):\n",
    "        country_all9['country_okay'].iloc[i] = 'okay'\n",
    "    else:\n",
    "        country_all9['country_okay'].iloc[i] = 'not okay'"
   ]
  },
  {
   "cell_type": "code",
   "execution_count": 71,
   "id": "c0814bb7",
   "metadata": {},
   "outputs": [
    {
     "data": {
      "text/html": [
       "<div>\n",
       "<style scoped>\n",
       "    .dataframe tbody tr th:only-of-type {\n",
       "        vertical-align: middle;\n",
       "    }\n",
       "\n",
       "    .dataframe tbody tr th {\n",
       "        vertical-align: top;\n",
       "    }\n",
       "\n",
       "    .dataframe thead th {\n",
       "        text-align: right;\n",
       "    }\n",
       "</style>\n",
       "<table border=\"1\" class=\"dataframe\">\n",
       "  <thead>\n",
       "    <tr style=\"text-align: right;\">\n",
       "      <th></th>\n",
       "      <th></th>\n",
       "      <th>country_okay</th>\n",
       "    </tr>\n",
       "    <tr>\n",
       "      <th>country</th>\n",
       "      <th>Country</th>\n",
       "      <th></th>\n",
       "    </tr>\n",
       "  </thead>\n",
       "  <tbody>\n",
       "    <tr>\n",
       "      <th>Antigua and Barbuda</th>\n",
       "      <th>Antigua &amp; Barbuda</th>\n",
       "      <td>3</td>\n",
       "    </tr>\n",
       "    <tr>\n",
       "      <th>Bolivia (Plurinational State of)</th>\n",
       "      <th>Bolivia</th>\n",
       "      <td>3</td>\n",
       "    </tr>\n",
       "    <tr>\n",
       "      <th>Bosnia and Herzegovina</th>\n",
       "      <th>Bosnia &amp; Herzegovina</th>\n",
       "      <td>3</td>\n",
       "    </tr>\n",
       "    <tr>\n",
       "      <th>Brunei Darussalam</th>\n",
       "      <th>Brunei</th>\n",
       "      <td>3</td>\n",
       "    </tr>\n",
       "    <tr>\n",
       "      <th>Cabo Verde</th>\n",
       "      <th>Cape Verde</th>\n",
       "      <td>3</td>\n",
       "    </tr>\n",
       "    <tr>\n",
       "      <th>Congo</th>\n",
       "      <th>Congo, Dem. Rep.</th>\n",
       "      <td>3</td>\n",
       "    </tr>\n",
       "    <tr>\n",
       "      <th>Côte d'Ivoire</th>\n",
       "      <th>Cote d'Ivoire</th>\n",
       "      <td>3</td>\n",
       "    </tr>\n",
       "    <tr>\n",
       "      <th>Democratic Republic of the Congo</th>\n",
       "      <th>Congo, Repub. of the</th>\n",
       "      <td>3</td>\n",
       "    </tr>\n",
       "    <tr>\n",
       "      <th>Gambia</th>\n",
       "      <th>Gambia, The</th>\n",
       "      <td>3</td>\n",
       "    </tr>\n",
       "    <tr>\n",
       "      <th>Lao People's Democratic Republic</th>\n",
       "      <th>Czech Republic</th>\n",
       "      <td>3</td>\n",
       "    </tr>\n",
       "    <tr>\n",
       "      <th>Micronesia (Federated States of)</th>\n",
       "      <th>United States</th>\n",
       "      <td>3</td>\n",
       "    </tr>\n",
       "    <tr>\n",
       "      <th>Niue</th>\n",
       "      <th>N. Mariana Islands</th>\n",
       "      <td>3</td>\n",
       "    </tr>\n",
       "    <tr>\n",
       "      <th>Republic of Korea</th>\n",
       "      <th>Korea, South</th>\n",
       "      <td>3</td>\n",
       "    </tr>\n",
       "    <tr>\n",
       "      <th>Republic of Moldova</th>\n",
       "      <th>Moldova</th>\n",
       "      <td>3</td>\n",
       "    </tr>\n",
       "    <tr>\n",
       "      <th>Sao Tome and Principe</th>\n",
       "      <th>Sao Tome &amp; Principe</th>\n",
       "      <td>3</td>\n",
       "    </tr>\n",
       "    <tr>\n",
       "      <th>Syrian Arab Republic</th>\n",
       "      <th>Czech Republic</th>\n",
       "      <td>3</td>\n",
       "    </tr>\n",
       "    <tr>\n",
       "      <th>Trinidad and Tobago</th>\n",
       "      <th>Trinidad &amp; Tobago</th>\n",
       "      <td>3</td>\n",
       "    </tr>\n",
       "    <tr>\n",
       "      <th>United Republic of Tanzania</th>\n",
       "      <th>Tanzania</th>\n",
       "      <td>3</td>\n",
       "    </tr>\n",
       "    <tr>\n",
       "      <th>Venezuela (Bolivarian Republic of)</th>\n",
       "      <th>Venezuela</th>\n",
       "      <td>3</td>\n",
       "    </tr>\n",
       "  </tbody>\n",
       "</table>\n",
       "</div>"
      ],
      "text/plain": [
       "                                                         country_okay\n",
       "country                            Country                           \n",
       "Antigua and Barbuda                Antigua & Barbuda                3\n",
       "Bolivia (Plurinational State of)   Bolivia                          3\n",
       "Bosnia and Herzegovina             Bosnia & Herzegovina             3\n",
       "Brunei Darussalam                  Brunei                           3\n",
       "Cabo Verde                         Cape Verde                       3\n",
       "Congo                              Congo, Dem. Rep.                 3\n",
       "Côte d'Ivoire                      Cote d'Ivoire                    3\n",
       "Democratic Republic of the Congo   Congo, Repub. of the             3\n",
       "Gambia                             Gambia, The                      3\n",
       "Lao People's Democratic Republic   Czech Republic                   3\n",
       "Micronesia (Federated States of)   United States                    3\n",
       "Niue                               N. Mariana Islands               3\n",
       "Republic of Korea                  Korea, South                     3\n",
       "Republic of Moldova                Moldova                          3\n",
       "Sao Tome and Principe              Sao Tome & Principe              3\n",
       "Syrian Arab Republic               Czech Republic                   3\n",
       "Trinidad and Tobago                Trinidad & Tobago                3\n",
       "United Republic of Tanzania        Tanzania                         3\n",
       "Venezuela (Bolivarian Republic of) Venezuela                        3"
      ]
     },
     "execution_count": 71,
     "metadata": {},
     "output_type": "execute_result"
    }
   ],
   "source": [
    "country_all9[country_all9['country_okay'] == 'not okay'].groupby(['country','Country']).count()"
   ]
  },
  {
   "cell_type": "markdown",
   "id": "ac6c9982",
   "metadata": {},
   "source": [
    "Errors this time, the two Congos, Laos, Micronesia, Niue (that's actually missing from the countries_df) and Syria. Let's fix these and add the available values from the country_tocheck table."
   ]
  },
  {
   "cell_type": "code",
   "execution_count": 72,
   "id": "b1ec5a64",
   "metadata": {},
   "outputs": [],
   "source": [
    "dict_country={\"Congo\": \"Congo, Repub. of the\", \"Democratic Republic of the Congo\": \"Congo, Dem. Rep.\",\n",
    "              \"Lao People's Democratic Republic\": \"Laos\",  \n",
    "              \"Micronesia (Federated States of)\": \"Micronesia, Fed. St.\", \n",
    "              \"Syrian Arab Republic\": \"Syria\", \"Guinea_Bissau\": \"Guinea-Bissau\",\n",
    "              \"Russian Federation\": \"Russia\", \"Timor_Leste\": \"East Timor\", \"Viet Nam\": \"Vietnam\"}"
   ]
  },
  {
   "cell_type": "code",
   "execution_count": 73,
   "id": "a600bcdc",
   "metadata": {},
   "outputs": [],
   "source": [
    "df[\"country\"].replace(dict_country, inplace=True)"
   ]
  },
  {
   "cell_type": "code",
   "execution_count": 74,
   "id": "de55553e",
   "metadata": {},
   "outputs": [
    {
     "name": "stderr",
     "output_type": "stream",
     "text": [
      "/var/folders/n8/4qkbch054_dcrcnsw7khkv340000gn/T/ipykernel_7454/3032158531.py:14: SettingWithCopyWarning: \n",
      "A value is trying to be set on a copy of a slice from a DataFrame\n",
      "\n",
      "See the caveats in the documentation: https://pandas.pydata.org/pandas-docs/stable/user_guide/indexing.html#returning-a-view-versus-a-copy\n",
      "  country_all3['country_okay'].iloc[i] = 'okay'\n"
     ]
    }
   ],
   "source": [
    "# now let's repeat the fuzzy match\n",
    "\n",
    "country_all2 = fuzzymatcher.fuzzy_left_join(df, countries_df, ['country'], ['Country'])\n",
    "country_all3 = country_all2[['country', 'Country']]\n",
    "\n",
    "country_all3 = country_all3[country_all3['Country'].notna()]\n",
    "\n",
    "# let's check if fuzzy matching worked\n",
    "\n",
    "country_all3['country_okay'] = 0\n",
    "\n",
    "for i in range(len(country_all3)):\n",
    "    if (country_all3.iloc[i,0][0:10] == country_all3.iloc[i,1][0:10]):\n",
    "        country_all3['country_okay'].iloc[i] = 'okay'\n",
    "    else:\n",
    "        country_all3['country_okay'].iloc[i] = 'not okay'"
   ]
  },
  {
   "cell_type": "code",
   "execution_count": 75,
   "id": "adacf2fc",
   "metadata": {},
   "outputs": [
    {
     "data": {
      "text/html": [
       "<div>\n",
       "<style scoped>\n",
       "    .dataframe tbody tr th:only-of-type {\n",
       "        vertical-align: middle;\n",
       "    }\n",
       "\n",
       "    .dataframe tbody tr th {\n",
       "        vertical-align: top;\n",
       "    }\n",
       "\n",
       "    .dataframe thead th {\n",
       "        text-align: right;\n",
       "    }\n",
       "</style>\n",
       "<table border=\"1\" class=\"dataframe\">\n",
       "  <thead>\n",
       "    <tr style=\"text-align: right;\">\n",
       "      <th></th>\n",
       "      <th></th>\n",
       "      <th>country_okay</th>\n",
       "    </tr>\n",
       "    <tr>\n",
       "      <th>country</th>\n",
       "      <th>Country</th>\n",
       "      <th></th>\n",
       "    </tr>\n",
       "  </thead>\n",
       "  <tbody>\n",
       "    <tr>\n",
       "      <th>Antigua and Barbuda</th>\n",
       "      <th>Antigua &amp; Barbuda</th>\n",
       "      <td>3</td>\n",
       "    </tr>\n",
       "    <tr>\n",
       "      <th>Bolivia (Plurinational State of)</th>\n",
       "      <th>Bolivia</th>\n",
       "      <td>3</td>\n",
       "    </tr>\n",
       "    <tr>\n",
       "      <th>Bosnia and Herzegovina</th>\n",
       "      <th>Bosnia &amp; Herzegovina</th>\n",
       "      <td>3</td>\n",
       "    </tr>\n",
       "    <tr>\n",
       "      <th>Brunei Darussalam</th>\n",
       "      <th>Brunei</th>\n",
       "      <td>3</td>\n",
       "    </tr>\n",
       "    <tr>\n",
       "      <th>Cabo Verde</th>\n",
       "      <th>Cape Verde</th>\n",
       "      <td>3</td>\n",
       "    </tr>\n",
       "    <tr>\n",
       "      <th>Côte d'Ivoire</th>\n",
       "      <th>Cote d'Ivoire</th>\n",
       "      <td>3</td>\n",
       "    </tr>\n",
       "    <tr>\n",
       "      <th>Gambia</th>\n",
       "      <th>Gambia, The</th>\n",
       "      <td>3</td>\n",
       "    </tr>\n",
       "    <tr>\n",
       "      <th>Niue</th>\n",
       "      <th>N. Mariana Islands</th>\n",
       "      <td>3</td>\n",
       "    </tr>\n",
       "    <tr>\n",
       "      <th>Republic of Korea</th>\n",
       "      <th>Korea, South</th>\n",
       "      <td>3</td>\n",
       "    </tr>\n",
       "    <tr>\n",
       "      <th>Republic of Moldova</th>\n",
       "      <th>Moldova</th>\n",
       "      <td>3</td>\n",
       "    </tr>\n",
       "    <tr>\n",
       "      <th>Sao Tome and Principe</th>\n",
       "      <th>Sao Tome &amp; Principe</th>\n",
       "      <td>3</td>\n",
       "    </tr>\n",
       "    <tr>\n",
       "      <th>Trinidad and Tobago</th>\n",
       "      <th>Trinidad &amp; Tobago</th>\n",
       "      <td>3</td>\n",
       "    </tr>\n",
       "    <tr>\n",
       "      <th>United Republic of Tanzania</th>\n",
       "      <th>Tanzania</th>\n",
       "      <td>3</td>\n",
       "    </tr>\n",
       "    <tr>\n",
       "      <th>Venezuela (Bolivarian Republic of)</th>\n",
       "      <th>Venezuela</th>\n",
       "      <td>3</td>\n",
       "    </tr>\n",
       "  </tbody>\n",
       "</table>\n",
       "</div>"
      ],
      "text/plain": [
       "                                                         country_okay\n",
       "country                            Country                           \n",
       "Antigua and Barbuda                Antigua & Barbuda                3\n",
       "Bolivia (Plurinational State of)   Bolivia                          3\n",
       "Bosnia and Herzegovina             Bosnia & Herzegovina             3\n",
       "Brunei Darussalam                  Brunei                           3\n",
       "Cabo Verde                         Cape Verde                       3\n",
       "Côte d'Ivoire                      Cote d'Ivoire                    3\n",
       "Gambia                             Gambia, The                      3\n",
       "Niue                               N. Mariana Islands               3\n",
       "Republic of Korea                  Korea, South                     3\n",
       "Republic of Moldova                Moldova                          3\n",
       "Sao Tome and Principe              Sao Tome & Principe              3\n",
       "Trinidad and Tobago                Trinidad & Tobago                3\n",
       "United Republic of Tanzania        Tanzania                         3\n",
       "Venezuela (Bolivarian Republic of) Venezuela                        3"
      ]
     },
     "execution_count": 75,
     "metadata": {},
     "output_type": "execute_result"
    }
   ],
   "source": [
    "country_all3[country_all3['country_okay'] == 'not okay'].groupby(['country','Country']).count()"
   ]
  },
  {
   "cell_type": "markdown",
   "id": "6c38de8d",
   "metadata": {},
   "source": [
    "Looks perfect, but we'll have to drop Niue, because it's not in countries_df. For now, let's only keep the country columns."
   ]
  },
  {
   "cell_type": "code",
   "execution_count": 76,
   "id": "ea15fe9f",
   "metadata": {},
   "outputs": [
    {
     "data": {
      "text/plain": [
       "Index(['best_match_score', '__id_left', '__id_right', 'country',\n",
       "       'beer_servings', 'spirit_servings', 'wine_servings',\n",
       "       'total_litres_of_pure_alcohol', 'GhoCode', 'GhoDisplay',\n",
       "       'PublishStateCode', 'PublishStateDisplay', 'YearCode', 'YearDisplay',\n",
       "       'RegionCode', 'RegionDisplay', 'WorldBankIncomeGroupGroupCode',\n",
       "       'WorldBankIncomeGroupDisplay', 'CountryCode', 'CountryDisplay',\n",
       "       'SexCode', 'SexDisplay', 'DisplayValue', 'Numeric', 'Country', 'Region',\n",
       "       'Population', 'Areasq. mi.', 'Pop. Densityper sq. mi.',\n",
       "       'Coastlinecoast/area ratio', 'Net migration',\n",
       "       'Infant mortalityper 1000 births', 'GDP$ per capita', 'Literacy%',\n",
       "       'Phonesper 1000', 'Arable%', 'Crops%', 'Other%', 'Birthrate',\n",
       "       'Deathrate'],\n",
       "      dtype='object')"
      ]
     },
     "execution_count": 76,
     "metadata": {},
     "output_type": "execute_result"
    }
   ],
   "source": [
    "country_all2.columns"
   ]
  },
  {
   "cell_type": "code",
   "execution_count": 77,
   "id": "2b9a534e",
   "metadata": {},
   "outputs": [],
   "source": [
    "df = country_all2.drop(['best_match_score', '__id_left', '__id_right', 'GhoCode', 'PublishStateCode', \n",
    "                        'PublishStateDisplay','YearDisplay', 'RegionCode',  'CountryCode', \n",
    "                        'CountryDisplay', 'SexCode', 'DisplayValue'], axis=1)"
   ]
  },
  {
   "cell_type": "code",
   "execution_count": 78,
   "id": "97bb149e",
   "metadata": {},
   "outputs": [],
   "source": [
    "df = df[df.country != 'Niue']"
   ]
  },
  {
   "cell_type": "code",
   "execution_count": 79,
   "id": "7ee43843",
   "metadata": {},
   "outputs": [
    {
     "data": {
      "text/plain": [
       "18.0"
      ]
     },
     "execution_count": 79,
     "metadata": {},
     "output_type": "execute_result"
    }
   ],
   "source": [
    "(len(life_exp1) - len(df))/3"
   ]
  },
  {
   "cell_type": "markdown",
   "id": "1b79f623",
   "metadata": {},
   "source": [
    "The difference is 18, before it was 17, but since we dropped Niue, because it was not in the countries_df."
   ]
  },
  {
   "cell_type": "markdown",
   "id": "5c83f9ff",
   "metadata": {},
   "source": [
    "## Find factors that are highly correlated to the expected lifetime"
   ]
  },
  {
   "cell_type": "markdown",
   "id": "60aabfee",
   "metadata": {},
   "source": [
    "Let's select the 'Numeric' (which is the expected lifetime) column from the correlation matrix to see its correlation to all the other columns. I consider anything over 0.5 correlation (positive or negative, Pearson's method) highly correlated."
   ]
  },
  {
   "cell_type": "code",
   "execution_count": 80,
   "id": "f56d2586",
   "metadata": {},
   "outputs": [
    {
     "data": {
      "text/plain": [
       "Phonesper 1000                     0.723605\n",
       "Literacy%                          0.663292\n",
       "GDP$ per capita                    0.651137\n",
       "total_litres_of_pure_alcohol       0.544166\n",
       "Deathrate                         -0.638649\n",
       "Birthrate                         -0.795367\n",
       "Infant mortalityper 1000 births   -0.845687\n",
       "Name: Numeric, dtype: float64"
      ]
     },
     "execution_count": 80,
     "metadata": {},
     "output_type": "execute_result"
    }
   ],
   "source": [
    "exp_life_corr = df.corr()['Numeric'].sort_values(ascending=False)\n",
    "exp_life_corr2 = exp_life_corr.iloc[1:][(exp_life_corr >= 0.5) | (exp_life_corr <= -0.5)]\n",
    "exp_life_corr2"
   ]
  },
  {
   "cell_type": "markdown",
   "id": "b22fca81",
   "metadata": {},
   "source": [
    "The highest correlation values are 'Infant mortalityper 1000 births', 'Birthrate' and 'Phonesper 1000'. Only the last is positively correlated with life expectancy. \n",
    "It may sound surprising, that phones per 1000 people is a better indicator, then GDP per Capita, however it is probably a proxy for it, and the former's correlation might be more linear than the latter.  \n",
    "\n",
    "Let's plot these correlations:\n",
    "\n"
   ]
  },
  {
   "cell_type": "code",
   "execution_count": 81,
   "id": "720c1f3d",
   "metadata": {},
   "outputs": [
    {
     "name": "stderr",
     "output_type": "stream",
     "text": [
      "/Users/oszkar/opt/anaconda3/lib/python3.9/site-packages/seaborn/_decorators.py:36: FutureWarning: Pass the following variables as keyword args: x, y. From version 0.12, the only valid positional argument will be `data`, and passing other arguments without an explicit keyword will result in an error or misinterpretation.\n",
      "  warnings.warn(\n"
     ]
    },
    {
     "data": {
      "image/png": "[encoded data removed]",
      "text/plain": [
       "<Figure size 864x864 with 7 Axes>"
      ]
     },
     "metadata": {
      "needs_background": "light"
     },
     "output_type": "display_data"
    }
   ],
   "source": [
    "import seaborn as sns\n",
    "\n",
    "plt.rcParams[\"figure.figsize\"] = (12,12)\n",
    "\n",
    "for n, i in enumerate(exp_life_corr2.index):\n",
    "    plt.subplot(3, 3, n+1)\n",
    "    sns.regplot(df.Numeric, df[i], ci=None, scatter_kws={\"color\": \"grey\"}, line_kws={\"color\": \"red\"}, )\n",
    "    plt.title(i.upper())\n",
    "    plt.xlabel('')\n",
    "    \n",
    "plt.show()"
   ]
  },
  {
   "cell_type": "markdown",
   "id": "45d66f9e",
   "metadata": {},
   "source": [
    "We can see, that 'Infant mortalityper 1000 births' and 'Birthrate' are pretty much linearly correlated with life expectancy, however it looks like that as we thought, the correlation for GDP per Capita is not linear:"
   ]
  },
  {
   "cell_type": "code",
   "execution_count": 82,
   "id": "946d8471",
   "metadata": {},
   "outputs": [
    {
     "data": {
      "image/png": "[encoded data removed]",
      "text/plain": [
       "<Figure size 360x360 with 1 Axes>"
      ]
     },
     "metadata": {
      "needs_background": "light"
     },
     "output_type": "display_data"
    }
   ],
   "source": [
    "plt.rcParams[\"figure.figsize\"] = (5,5)\n",
    "sns.regplot(df.Numeric, df['GDP$ per capita'], ci=None,\n",
    "            lowess = True, scatter_kws={\"color\": \"grey\"}, line_kws={\"color\": \"red\"})\n",
    "plt.xlabel('Life expectancy')\n",
    "plt.show()"
   ]
  },
  {
   "cell_type": "markdown",
   "id": "b86c707f",
   "metadata": {},
   "source": [
    "### Regions"
   ]
  },
  {
   "cell_type": "markdown",
   "id": "dd06b386",
   "metadata": {},
   "source": [
    "I find it interesting, that the total alcohol consumption is one of the variables highly correlated with life expectancy. We saw it earlier, that they are positively correlated. One would think, that drinking alcohol, generally thought of as an unhealthy habit, would be negatively correlated with expected lifetime. \n",
    "But perhaps it is, to some extent, a proxy value for wealthier countries with better healthcare, so it's safe to say, that countries have higher life expectancy in spite of, not because drinking alcohol.\n",
    "\n",
    "Let's plot the countries' alcohol consumption and their life expectancy:"
   ]
  },
  {
   "cell_type": "code",
   "execution_count": 83,
   "id": "08347939",
   "metadata": {},
   "outputs": [
    {
     "data": {
      "image/png": "[encoded data removed]",
      "text/plain": [
       "<Figure size 864x360 with 1 Axes>"
      ]
     },
     "metadata": {
      "needs_background": "light"
     },
     "output_type": "display_data"
    }
   ],
   "source": [
    "plt.rcParams[\"figure.figsize\"] = (12,5)\n",
    "\n",
    "import seaborn as sns\n",
    "sns.scatterplot('Numeric', 'total_litres_of_pure_alcohol', data=df, hue='RegionDisplay', s=50)\n",
    "plt.legend(loc=(1.01,0.66))\n",
    "plt.xlabel('Life expectancy')\n",
    "plt.show()"
   ]
  },
  {
   "cell_type": "markdown",
   "id": "b666a842",
   "metadata": {},
   "source": [
    "There is definitely a group of African countries in the bottom left corner of the plot, meanwhile in the top right corner there are mostly European countries. We can also observe the 'Eastern Mediterranean' countries with low alcohol consumption, but higher life expectancies than the African countries. Let's look into the numbers:"
   ]
  },
  {
   "cell_type": "code",
   "execution_count": 84,
   "id": "fc4f1c35",
   "metadata": {},
   "outputs": [
    {
     "data": {
      "text/html": [
       "<div>\n",
       "<style scoped>\n",
       "    .dataframe tbody tr th:only-of-type {\n",
       "        vertical-align: middle;\n",
       "    }\n",
       "\n",
       "    .dataframe tbody tr th {\n",
       "        vertical-align: top;\n",
       "    }\n",
       "\n",
       "    .dataframe thead th {\n",
       "        text-align: right;\n",
       "    }\n",
       "</style>\n",
       "<table border=\"1\" class=\"dataframe\">\n",
       "  <thead>\n",
       "    <tr style=\"text-align: right;\">\n",
       "      <th></th>\n",
       "      <th>beer_servings</th>\n",
       "      <th>spirit_servings</th>\n",
       "      <th>wine_servings</th>\n",
       "      <th>total_litres_of_pure_alcohol</th>\n",
       "      <th>Population_million</th>\n",
       "    </tr>\n",
       "    <tr>\n",
       "      <th>RegionDisplay</th>\n",
       "      <th></th>\n",
       "      <th></th>\n",
       "      <th></th>\n",
       "      <th></th>\n",
       "      <th></th>\n",
       "    </tr>\n",
       "  </thead>\n",
       "  <tbody>\n",
       "    <tr>\n",
       "      <th>Africa</th>\n",
       "      <td>9498.0</td>\n",
       "      <td>2388.0</td>\n",
       "      <td>2484.0</td>\n",
       "      <td>254.3490</td>\n",
       "      <td>2183</td>\n",
       "    </tr>\n",
       "    <tr>\n",
       "      <th>Americas</th>\n",
       "      <td>15972.0</td>\n",
       "      <td>15039.0</td>\n",
       "      <td>3786.0</td>\n",
       "      <td>615.9069</td>\n",
       "      <td>2663</td>\n",
       "    </tr>\n",
       "    <tr>\n",
       "      <th>Eastern Mediterranean</th>\n",
       "      <td>657.0</td>\n",
       "      <td>1335.0</td>\n",
       "      <td>306.0</td>\n",
       "      <td>40.6746</td>\n",
       "      <td>826</td>\n",
       "    </tr>\n",
       "    <tr>\n",
       "      <th>Europe</th>\n",
       "      <td>26856.0</td>\n",
       "      <td>20412.0</td>\n",
       "      <td>18549.0</td>\n",
       "      <td>1164.9609</td>\n",
       "      <td>2620</td>\n",
       "    </tr>\n",
       "    <tr>\n",
       "      <th>South_East Asia</th>\n",
       "      <td>489.0</td>\n",
       "      <td>1455.0</td>\n",
       "      <td>15.0</td>\n",
       "      <td>34.6743</td>\n",
       "      <td>4372</td>\n",
       "    </tr>\n",
       "    <tr>\n",
       "      <th>Western Pacific</th>\n",
       "      <td>6075.0</td>\n",
       "      <td>4815.0</td>\n",
       "      <td>2226.0</td>\n",
       "      <td>232.1532</td>\n",
       "      <td>5246</td>\n",
       "    </tr>\n",
       "  </tbody>\n",
       "</table>\n",
       "</div>"
      ],
      "text/plain": [
       "                       beer_servings  spirit_servings  wine_servings  \\\n",
       "RegionDisplay                                                          \n",
       "Africa                        9498.0           2388.0         2484.0   \n",
       "Americas                     15972.0          15039.0         3786.0   \n",
       "Eastern Mediterranean          657.0           1335.0          306.0   \n",
       "Europe                       26856.0          20412.0        18549.0   \n",
       "South_East Asia                489.0           1455.0           15.0   \n",
       "Western Pacific               6075.0           4815.0         2226.0   \n",
       "\n",
       "                       total_litres_of_pure_alcohol  Population_million  \n",
       "RegionDisplay                                                            \n",
       "Africa                                     254.3490                2183  \n",
       "Americas                                   615.9069                2663  \n",
       "Eastern Mediterranean                       40.6746                 826  \n",
       "Europe                                    1164.9609                2620  \n",
       "South_East Asia                             34.6743                4372  \n",
       "Western Pacific                            232.1532                5246  "
      ]
     },
     "execution_count": 84,
     "metadata": {},
     "output_type": "execute_result"
    }
   ],
   "source": [
    "alc_reg = df.groupby('RegionDisplay').sum()\n",
    "alc_reg = alc_reg[['beer_servings', 'spirit_servings', 'wine_servings', 'total_litres_of_pure_alcohol', 'Population']]\n",
    "alc_reg.Population = pd.to_numeric(((alc_reg.Population/1000000).apply(lambda x: '%.0f' % x)))\n",
    "alc_reg.rename({'Population':'Population_million'}, axis=1, inplace=True)\n",
    "#alc_reg.reset_index(inplace=True)\n",
    "alc_reg"
   ]
  },
  {
   "cell_type": "code",
   "execution_count": 85,
   "id": "409402eb",
   "metadata": {},
   "outputs": [
    {
     "data": {
      "text/plain": [
       "RegionDisplay\n",
       "Africa                   0.116514\n",
       "Americas                 0.231283\n",
       "Eastern Mediterranean    0.049243\n",
       "Europe                   0.444642\n",
       "South_East Asia          0.007931\n",
       "Western Pacific          0.044253\n",
       "dtype: float64"
      ]
     },
     "execution_count": 85,
     "metadata": {},
     "output_type": "execute_result"
    }
   ],
   "source": [
    "(alc_reg.total_litres_of_pure_alcohol / alc_reg.Population_million)"
   ]
  },
  {
   "cell_type": "markdown",
   "id": "4d562d3f",
   "metadata": {},
   "source": [
    "The table above show the alcohol consumption (in liter) of each region per million people. In Europe, it's almost a half liter, meanwhile in South-East Asia it's less than 10 ml. Let's visualize the difference:"
   ]
  },
  {
   "cell_type": "code",
   "execution_count": 86,
   "id": "2d1c6a97",
   "metadata": {},
   "outputs": [
    {
     "data": {
      "text/plain": [
       "RegionDisplay\n",
       "South_East Asia          0.007931\n",
       "Western Pacific          0.044253\n",
       "Eastern Mediterranean    0.049243\n",
       "Africa                   0.116514\n",
       "Americas                 0.231283\n",
       "Europe                   0.444642\n",
       "dtype: float64"
      ]
     },
     "execution_count": 86,
     "metadata": {},
     "output_type": "execute_result"
    }
   ],
   "source": [
    "(alc_reg.total_litres_of_pure_alcohol / alc_reg.Population_million).sort_values()"
   ]
  },
  {
   "cell_type": "code",
   "execution_count": 87,
   "id": "3763dc3a",
   "metadata": {},
   "outputs": [
    {
     "data": {
      "image/png": "[encoded data removed]",
      "text/plain": [
       "<Figure size 1080x360 with 1 Axes>"
      ]
     },
     "metadata": {
      "needs_background": "light"
     },
     "output_type": "display_data"
    }
   ],
   "source": [
    "plt.rcParams[\"figure.figsize\"] = (15,5)\n",
    "\n",
    "(alc_reg.total_litres_of_pure_alcohol / alc_reg.Population_million).sort_values(ascending=False).plot(kind='bar')\n",
    "plt.title('Total liters of pure alcohol per million people')\n",
    "plt.xlabel('')\n",
    "plt.xticks(rotation = 0)\n",
    "plt.ylabel('Liter')\n",
    "plt.xticks\n",
    "plt.show()"
   ]
  },
  {
   "cell_type": "markdown",
   "id": "eded214b",
   "metadata": {},
   "source": [
    "Let's check the distribution of the different types of alcohol per region:"
   ]
  },
  {
   "cell_type": "code",
   "execution_count": 88,
   "id": "fdc6ab7b",
   "metadata": {},
   "outputs": [
    {
     "data": {
      "image/png": "[encoded data removed]",
      "text/plain": [
       "<Figure size 1080x360 with 1 Axes>"
      ]
     },
     "metadata": {
      "needs_background": "light"
     },
     "output_type": "display_data"
    }
   ],
   "source": [
    "plt.rcParams[\"figure.figsize\"] = (15,5)\n",
    "alc_reg.iloc[:,0:3].plot(kind='bar')\n",
    "\n",
    "plt.title('Distribution of types of alcohol (all regions in servings)')\n",
    "plt.xlabel('')\n",
    "plt.xticks(rotation = 0)\n",
    "plt.ylabel('Population')\n",
    "plt.show()"
   ]
  },
  {
   "cell_type": "code",
   "execution_count": 89,
   "id": "ffc81c67",
   "metadata": {},
   "outputs": [],
   "source": [
    "alc_reg_1 = alc_reg.iloc[:,0:3].reset_index()\n",
    "alc_reg_1 = pd.melt(alc_reg_1, id_vars='RegionDisplay', value_vars=['beer_servings', 'spirit_servings', 'wine_servings'])"
   ]
  },
  {
   "cell_type": "code",
   "execution_count": 90,
   "id": "2f8247e8",
   "metadata": {},
   "outputs": [
    {
     "data": {
      "image/png": "[encoded data removed]",
      "text/plain": [
       "<Figure size 1080x720 with 6 Axes>"
      ]
     },
     "metadata": {
      "needs_background": "light"
     },
     "output_type": "display_data"
    }
   ],
   "source": [
    "fig, axs = plt.subplots(nrows=2, ncols=3, figsize=(15, 10))\n",
    "plt.subplots_adjust(hspace=0.5)\n",
    "fig.suptitle(\"Distribution of types of alcohol per region (servings)\", fontsize=18, y=1)\n",
    "\n",
    "for n, ax in zip(alc_reg_1.RegionDisplay, axs.ravel()):\n",
    "    sns.barplot(data=alc_reg_1[alc_reg_1.RegionDisplay == n], x='RegionDisplay', y='value', hue='variable', ax=ax)\n",
    "    \n",
    "    ax.set_title(n.upper())\n",
    "    ax.get_legend().remove()\n",
    "    ax.set_xlabel(\"\")\n",
    "    ax.set_ylabel(\"\")\n",
    "    ax.set_xticks([])\n",
    "    \n",
    "    handles, labels = ax.get_legend_handles_labels()\n",
    "    fig.legend(handles, labels, loc = (0.89, 0.78), ncol=1)\n",
    "plt.show()"
   ]
  },
  {
   "cell_type": "markdown",
   "id": "52a01169",
   "metadata": {},
   "source": [
    "I find it quite surprising, that in almost all regions, spirits are more popular than wine (wine consumption in South-East Asia is basically non-existent). In South-East Asia and the Eastern Mediterranean, spirits are the most popular drinks."
   ]
  },
  {
   "cell_type": "markdown",
   "id": "f60ea19e",
   "metadata": {},
   "source": [
    "### The difference between Female and Male life expectancy"
   ]
  },
  {
   "cell_type": "markdown",
   "id": "bca24e6e",
   "metadata": {},
   "source": [
    "Since we have the life expectancy numbers for both sexes, I thought it would be interesting to see, which variables contribute to a larger difference between Female and Male expected lifetime"
   ]
  },
  {
   "cell_type": "code",
   "execution_count": 91,
   "id": "418ef9d0",
   "metadata": {},
   "outputs": [
    {
     "data": {
      "text/html": [
       "<div>\n",
       "<style scoped>\n",
       "    .dataframe tbody tr th:only-of-type {\n",
       "        vertical-align: middle;\n",
       "    }\n",
       "\n",
       "    .dataframe tbody tr th {\n",
       "        vertical-align: top;\n",
       "    }\n",
       "\n",
       "    .dataframe thead th {\n",
       "        text-align: right;\n",
       "    }\n",
       "</style>\n",
       "<table border=\"1\" class=\"dataframe\">\n",
       "  <thead>\n",
       "    <tr style=\"text-align: right;\">\n",
       "      <th>SexDisplay</th>\n",
       "      <th>Both sexes</th>\n",
       "      <th>Female</th>\n",
       "      <th>Male</th>\n",
       "      <th>life_exp_diff</th>\n",
       "    </tr>\n",
       "    <tr>\n",
       "      <th>country</th>\n",
       "      <th></th>\n",
       "      <th></th>\n",
       "      <th></th>\n",
       "      <th></th>\n",
       "    </tr>\n",
       "  </thead>\n",
       "  <tbody>\n",
       "    <tr>\n",
       "      <th>Albania</th>\n",
       "      <td>74.13000</td>\n",
       "      <td>75.50800</td>\n",
       "      <td>72.82101</td>\n",
       "      <td>2.68699</td>\n",
       "    </tr>\n",
       "    <tr>\n",
       "      <th>Algeria</th>\n",
       "      <td>71.82955</td>\n",
       "      <td>73.51464</td>\n",
       "      <td>70.25095</td>\n",
       "      <td>3.26369</td>\n",
       "    </tr>\n",
       "    <tr>\n",
       "      <th>Andorra</th>\n",
       "      <td>82.65301</td>\n",
       "      <td>85.83038</td>\n",
       "      <td>79.43845</td>\n",
       "      <td>6.39193</td>\n",
       "    </tr>\n",
       "    <tr>\n",
       "      <th>Angola</th>\n",
       "      <td>51.74093</td>\n",
       "      <td>53.19343</td>\n",
       "      <td>50.29145</td>\n",
       "      <td>2.90198</td>\n",
       "    </tr>\n",
       "    <tr>\n",
       "      <th>Antigua and Barbuda</th>\n",
       "      <td>75.37800</td>\n",
       "      <td>77.32654</td>\n",
       "      <td>73.43759</td>\n",
       "      <td>3.88895</td>\n",
       "    </tr>\n",
       "  </tbody>\n",
       "</table>\n",
       "</div>"
      ],
      "text/plain": [
       "SexDisplay           Both sexes    Female      Male  life_exp_diff\n",
       "country                                                           \n",
       "Albania                74.13000  75.50800  72.82101        2.68699\n",
       "Algeria                71.82955  73.51464  70.25095        3.26369\n",
       "Andorra                82.65301  85.83038  79.43845        6.39193\n",
       "Angola                 51.74093  53.19343  50.29145        2.90198\n",
       "Antigua and Barbuda    75.37800  77.32654  73.43759        3.88895"
      ]
     },
     "execution_count": 91,
     "metadata": {},
     "output_type": "execute_result"
    }
   ],
   "source": [
    "df1 = df.pivot(index='country', columns='SexDisplay', values='Numeric')\n",
    "df1['life_exp_diff'] = df1.Female - df1.Male\n",
    "df1.head()"
   ]
  },
  {
   "cell_type": "markdown",
   "id": "726172a4",
   "metadata": {},
   "source": [
    "I decided to calculate the difference without taking the absolute, but my assumption is that women have higher life expectancy. Let's check it:"
   ]
  },
  {
   "cell_type": "code",
   "execution_count": 92,
   "id": "154bf175",
   "metadata": {},
   "outputs": [
    {
     "data": {
      "text/html": [
       "<div>\n",
       "<style scoped>\n",
       "    .dataframe tbody tr th:only-of-type {\n",
       "        vertical-align: middle;\n",
       "    }\n",
       "\n",
       "    .dataframe tbody tr th {\n",
       "        vertical-align: top;\n",
       "    }\n",
       "\n",
       "    .dataframe thead th {\n",
       "        text-align: right;\n",
       "    }\n",
       "</style>\n",
       "<table border=\"1\" class=\"dataframe\">\n",
       "  <thead>\n",
       "    <tr style=\"text-align: right;\">\n",
       "      <th>SexDisplay</th>\n",
       "      <th>Both sexes</th>\n",
       "      <th>Female</th>\n",
       "      <th>Male</th>\n",
       "      <th>life_exp_diff</th>\n",
       "    </tr>\n",
       "    <tr>\n",
       "      <th>country</th>\n",
       "      <th></th>\n",
       "      <th></th>\n",
       "      <th></th>\n",
       "      <th></th>\n",
       "    </tr>\n",
       "  </thead>\n",
       "  <tbody>\n",
       "    <tr>\n",
       "      <th>Mali</th>\n",
       "      <td>57.22025</td>\n",
       "      <td>57.05726</td>\n",
       "      <td>57.33265</td>\n",
       "      <td>-0.27539</td>\n",
       "    </tr>\n",
       "    <tr>\n",
       "      <th>Tonga</th>\n",
       "      <td>71.48373</td>\n",
       "      <td>69.56326</td>\n",
       "      <td>73.76161</td>\n",
       "      <td>-4.19835</td>\n",
       "    </tr>\n",
       "  </tbody>\n",
       "</table>\n",
       "</div>"
      ],
      "text/plain": [
       "SexDisplay  Both sexes    Female      Male  life_exp_diff\n",
       "country                                                  \n",
       "Mali          57.22025  57.05726  57.33265       -0.27539\n",
       "Tonga         71.48373  69.56326  73.76161       -4.19835"
      ]
     },
     "execution_count": 92,
     "metadata": {},
     "output_type": "execute_result"
    }
   ],
   "source": [
    "df1[df1.life_exp_diff < 0]"
   ]
  },
  {
   "cell_type": "markdown",
   "id": "a807aada",
   "metadata": {},
   "source": [
    "My assumption was correct, there are only two countries, where males have a higher life expectancy, only one, where the difference is more than a year. So going forward, we can assume, that difference in life expectancy means women live longer."
   ]
  },
  {
   "cell_type": "code",
   "execution_count": 93,
   "id": "ba18ec0a",
   "metadata": {},
   "outputs": [],
   "source": [
    "df2 = df.merge(df1.life_exp_diff, left_on='country', right_on=df1.index)\n",
    "df2 = df2.groupby('country').first().reset_index()"
   ]
  },
  {
   "cell_type": "code",
   "execution_count": 94,
   "id": "457789fb",
   "metadata": {},
   "outputs": [
    {
     "data": {
      "text/plain": [
       "beer_servings                      0.420557\n",
       "spirit_servings                    0.559705\n",
       "wine_servings                      0.195121\n",
       "total_litres_of_pure_alcohol       0.521642\n",
       "YearCode                                NaN\n",
       "Numeric                            0.404826\n",
       "Population                        -0.035026\n",
       "Areasq. mi.                        0.118507\n",
       "Pop. Densityper sq. mi.            0.003833\n",
       "Coastlinecoast/area ratio         -0.060181\n",
       "Net migration                     -0.178771\n",
       "Infant mortalityper 1000 births   -0.486743\n",
       "GDP$ per capita                    0.115801\n",
       "Literacy%                          0.507069\n",
       "Phonesper 1000                     0.295802\n",
       "Arable%                            0.273055\n",
       "Crops%                            -0.086353\n",
       "Other%                            -0.175610\n",
       "Birthrate                         -0.554099\n",
       "Deathrate                         -0.230518\n",
       "life_exp_diff                      1.000000\n",
       "Name: life_exp_diff, dtype: float64"
      ]
     },
     "execution_count": 94,
     "metadata": {},
     "output_type": "execute_result"
    }
   ],
   "source": [
    "df2.corr()['life_exp_diff']"
   ]
  },
  {
   "cell_type": "markdown",
   "id": "5c916286",
   "metadata": {},
   "source": [
    "Pretty interesting results for the alcohol consumption variables. Spirit consumption shows almost 0.56 correlation with the difference in life expectancy, meaning where spirit consumption is higher, males are expected to live less long on average. As a matter of fact, all types of alcohol consumption have a positive correlation with life expectancy difference, however wine consumption's is significantly less (lower than 0.2). This could mean a couple of things, for example that wine is less harmful, thus people who tend to drink wine, live longer. And it's possible, that these people are more likely to be women. This could also mean, that people who drink wine, don't drink as much alcohol as those who drink spirits and beer. Or perhaps there could be another variable in the background, maybe wine drinkers are less likely to smoke. "
   ]
  },
  {
   "cell_type": "markdown",
   "id": "63a86574",
   "metadata": {},
   "source": [
    "## Summarize the insights, explain the most important factor"
   ]
  },
  {
   "cell_type": "markdown",
   "id": "79fe3ec3",
   "metadata": {},
   "source": [
    "First, we analyzed the drinks table. We saw that it is skewed to the right. We removed the observations with missing values, also countries with 0 liters of total alcohol consumption. This last action made the data even more skewed, but I think that overall, it made our analysis more accurate, which I explained in more detail earlier.\n",
    "\n",
    "After joining the drinks table with the life expectancy table, we checked the correlation between total alcohol consumption and life expectancy. We found out, that the two are positively correlated. This sounds surprising at first, we can make the assumption, that most likely countries with better health care drink more, because of some underlying reason (they are wealthier etc.).\n",
    "\n",
    "As the next step, we joined the current table with the countries table, containing indicators such as GDP per Capita. At this point, we checked the correlation of life expectancy (the average for both sexes) and the other variables. We filtered for the ones with the highest (linear) correlation. Then we plotted these correlations, some of which looked mostly linear, meanwhile others (based on the plots) had a non-linear relationship with life expectancy.\n",
    "\n",
    "Then we plotted the expected lifetime and total alcohol consumption - with different colors for each region - and saw some quite well distinguishable groups, to some extent confirming our earlier assumption, about wealthier countries consume more alcohol. We also plotted the alcohol consumption per region, and found that the ratio of different types of alcohols can change significantly from one region to another. We also saw that Europeans drink the most, both in terms of absolute and relative quantities.\n",
    "\n",
    "Since we had the life expectancy for each sex, we could calculate the difference in expected lifetime for females and males for each country. First we saw, that there were only two countries out of 176, where males had a higher expected lifetime. Then we checked for the factors that can contribute to a larger difference. We found that drinking alcohol, especially spirits and beer, contributes to males having a shorter expected lifetime. Another conclusion we can make, that difference in life expectancy between the sexes is not a particularly good predictor of overall life expectancy.\n",
    "\n",
    "The main takeaway from this analysis is that the best predictors of life expectancy are Birthrate and Infant mortality per 1000 births, neither of them is a big surprise. Even though total alcohol consumption is one of the better indicators, it's not the best, and we uncovered the potential reasons for its positive correlation with the expected lifetime."
   ]
  },
  {
   "cell_type": "code",
   "execution_count": null,
   "id": "588ce5a9",
   "metadata": {},
   "outputs": [],
   "source": []
  }
 ],
 "metadata": {
  "kernelspec": {
   "display_name": "Python 3 (ipykernel)",
   "language": "python",
   "name": "python3"
  },
  "language_info": {
   "codemirror_mode": {
    "name": "ipython",
    "version": 3
   },
   "file_extension": ".py",
   "mimetype": "text/x-python",
   "name": "python",
   "nbconvert_exporter": "python",
   "pygments_lexer": "ipython3",
   "version": "3.9.7"
  }
 },
 "nbformat": 4,
 "nbformat_minor": 5
}
